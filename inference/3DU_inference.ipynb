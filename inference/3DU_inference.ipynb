{
 "cells": [
  {
   "cell_type": "markdown",
   "metadata": {},
   "source": [
    "###### ScanNet\n",
    "\n",
    "This notebook lets you instantiate the an inference dataset from scratch and visualize **3D+2D room samples**.\n",
    "Default settings: **5cm voxel resolution** and **960x720 image resolution**. \n",
    "\n",
    "The dataset is composed of **rooms** of video acquisitions of indoor scenes. These video streams were used to produce a point cloud and images.\n"
   ]
  },
  {
   "cell_type": "code",
   "execution_count": 1,
   "metadata": {},
   "outputs": [],
   "source": [
    "# Select you GPU\n",
    "I_GPU = 0\n"
   ]
  },
  {
   "cell_type": "code",
   "execution_count": null,
   "metadata": {},
   "outputs": [],
   "source": [
    "# Uncomment to use autoreload\n",
    "%load_ext autoreload\n",
    "%autoreload 2\n",
    "\n",
    "import os\n",
    "import os.path as osp\n",
    "import sys\n",
    "import torch\n",
    "import numpy as np\n",
    "from time import time\n",
    "from omegaconf import OmegaConf\n",
    "start = time()\n",
    "import warnings\n",
    "warnings.filterwarnings('ignore')\n",
    "\n",
    "# torch.cuda.set_device(I_GPU)\n",
    "DIR = os.path.dirname(os.getcwd())\n",
    "ROOT = os.path.join(DIR, \"..\")\n",
    "sys.path.insert(0, ROOT)\n",
    "sys.path.insert(0, DIR)\n",
    "\n",
    "from torch_points3d.utils.config import hydra_read\n",
    "from torch_geometric.data import Data\n",
    "from torch_points3d.core.multimodal.data import MMData, MMBatch\n",
    "from torch_points3d.visualization.multimodal_data import visualize_mm_data\n",
    "from torch_points3d.core.multimodal.image import SameSettingImageData, ImageData\n",
    "from torch_points3d.datasets.segmentation.multimodal.scannet_inference import ScannetDatasetMM_Inference\n",
    "from torch_points3d.datasets.segmentation.scannet import CLASS_COLORS, CLASS_NAMES, CLASS_LABELS\n",
    "from torch_points3d.metrics.segmentation_tracker import SegmentationTracker\n",
    "\n",
    "from pykeops.torch import LazyTensor\n",
    "\n",
    "import matplotlib.pyplot as plt \n",
    "\n",
    "%matplotlib inline"
   ]
  },
  {
   "cell_type": "code",
   "execution_count": null,
   "metadata": {},
   "outputs": [],
   "source": [
    "temp = CLASS_COLORS\n",
    "temp[-1] = (0.0, 0.0, 0.0)\n",
    "[list([int(y) for y in x]) for x in temp]\n",
    "CLASS_COLORS"
   ]
  },
  {
   "cell_type": "markdown",
   "metadata": {},
   "source": [
    "If `visualize_mm_data` does not throw any error but the visualization does not appear, you may need to change your plotly renderer below."
   ]
  },
  {
   "cell_type": "code",
   "execution_count": null,
   "metadata": {},
   "outputs": [],
   "source": [
    "import plotly.io as pio\n",
    "\n",
    "#pio.renderers.default = 'jupyterlab'        # for local notebook\n",
    "pio.renderers.default = 'iframe_connected'  # for remote notebook. Other working (but seemingly slower) options are: 'sphinx_gallery' and 'iframe'"
   ]
  },
  {
   "cell_type": "markdown",
   "metadata": {},
   "source": [
    "## Dataset creation\n",
    "\n",
    "The following will instantiate the dataset. If the data is not found at `DATA_ROOT`, the folder structure will be created there and the raw dataset will be downloaded there. \n",
    "\n",
    "**Memory-friendly tip** : if you have already downloaded the dataset once and simply want to instantiate a new dataset with different preprocessing (*e.g* change 3D or 2D resolution, mapping parameterization, etc), I recommend you manually replicate the folder hierarchy of your already-existing dataset and create a symlink to its `raw/` directory to avoid downloading and storing (very) large files twice.\n",
    "\n",
    "You will find the config file ruling the dataset creation at `conf/data/segmentation/multimodal/scannet-sparse.yaml`. You may edit this file or create new configs inheriting from this one using Hydra and create the associated dataset by modifying `dataset_config` accordingly in the following cell."
   ]
  },
  {
   "cell_type": "code",
   "execution_count": 5,
   "metadata": {},
   "outputs": [],
   "source": [
    "# Set your dataset root directory, where the data was/will be downloaded\n",
    "DATA_ROOT = '/home/fsun/data/inference_data/dva_processed'\n",
    "\n",
    "dataset_config = 'segmentation/multimodal/Feng/inference'   \n",
    "models_config = 'segmentation/multimodal/Feng/mvfusion'    # model family\n",
    "model_name = 'MVFusion_3D_small_6views'                       # specific model\n",
    "\n",
    "overrides = [\n",
    "    'task=segmentation',\n",
    "    f'data={dataset_config}',\n",
    "    f'models={models_config}',\n",
    "    f'model_name={model_name}',\n",
    "    f'data.dataroot={DATA_ROOT}',\n",
    "]\n",
    "\n",
    "cfg = hydra_read(overrides)\n",
    "OmegaConf.set_struct(cfg, False)  # This allows getattr and hasattr methods to function correctly\n",
    "cfg.data.load_m2f_masks = True   # load Mask2Former predicted masks"
   ]
  },
  {
   "cell_type": "code",
   "execution_count": 6,
   "metadata": {},
   "outputs": [
    {
     "name": "stdout",
     "output_type": "stream",
     "text": [
      "6\n"
     ]
    }
   ],
   "source": [
    "cfg.data.m2f_preds_dirname = 'ViT_masks'\n",
    "cfg.data.n_views = cfg.models[model_name].backbone.transformer.n_views\n",
    "print(cfg.data.n_views)"
   ]
  },
  {
   "cell_type": "markdown",
   "metadata": {},
   "source": [
    "As long as you do not change core dataset parameters, preprocessing should only be performed once for your dataset. It may take some time, **mostly depending on the 3D and 2D resolutions** you choose to work with (the larger the slower)."
   ]
  },
  {
   "cell_type": "code",
   "execution_count": 7,
   "metadata": {},
   "outputs": [
    {
     "name": "stdout",
     "output_type": "stream",
     "text": [
      "Load predicted 2D semantic segmentation labels from directory  ViT_masks\n",
      "initialize test dataset\n",
      "line 720 scannet.py: split == 'test'\n",
      "Time = 0.0 sec.\n"
     ]
    }
   ],
   "source": [
    "# Dataset instantiation\n",
    "start = time()\n",
    "dataset = ScannetDatasetMM_Inference(cfg.data)\n",
    "print(f\"Time = {time() - start:0.1f} sec.\")"
   ]
  },
  {
   "cell_type": "code",
   "execution_count": 12,
   "metadata": {},
   "outputs": [
    {
     "name": "stdout",
     "output_type": "stream",
     "text": [
      "pred_mask:  <PIL.Image.Image image mode=L size=960x720 at 0x14697124D3D0>\n",
      "pred_mask:  <PIL.Image.Image image mode=L size=960x720 at 0x14697124D3D0>\n",
      "pred_mask:  <PIL.Image.Image image mode=L size=960x720 at 0x14697124D3D0>\n",
      "pred_mask:  <PIL.Image.Image image mode=L size=960x720 at 0x14697124D3D0>\n",
      "pred_mask:  <PIL.Image.Image image mode=L size=960x720 at 0x14697124D3D0>\n",
      "pred_mask:  <PIL.Image.Image image mode=L size=960x720 at 0x146971BC7190>\n",
      "pred_mask:  <PIL.Image.Image image mode=L size=960x720 at 0x146971BC7190>\n",
      "pred_mask:  <PIL.Image.Image image mode=L size=960x720 at 0x146971BC7190>\n",
      "pred_mask:  <PIL.Image.Image image mode=L size=960x720 at 0x146971BC7190>\n",
      "pred_mask:  <PIL.Image.Image image mode=L size=960x720 at 0x146971BC7190>\n",
      "pred_mask:  <PIL.Image.Image image mode=L size=960x720 at 0x146971BC7190>\n",
      "pred_mask:  <PIL.Image.Image image mode=L size=960x720 at 0x146971BC7190>\n",
      "pred_mask:  <PIL.Image.Image image mode=L size=960x720 at 0x146971BC7190>\n",
      "pred_mask:  <PIL.Image.Image image mode=L size=960x720 at 0x146971BC7190>\n",
      "pred_mask:  <PIL.Image.Image image mode=L size=960x720 at 0x146971BC7190>\n",
      "pred_mask:  <PIL.Image.Image image mode=L size=960x720 at 0x146971BC7190>\n",
      "pred_mask:  <PIL.Image.Image image mode=L size=960x720 at 0x146971BC7190>\n",
      "pred_mask:  <PIL.Image.Image image mode=L size=960x720 at 0x146971BC7190>\n",
      "pred_mask:  <PIL.Image.Image image mode=L size=960x720 at 0x146971BC7190>\n",
      "pred_mask:  <PIL.Image.Image image mode=L size=960x720 at 0x146971BC7190>\n",
      "pred_mask:  <PIL.Image.Image image mode=L size=960x720 at 0x146971BC7190>\n",
      "pred_mask:  <PIL.Image.Image image mode=L size=960x720 at 0x146971BC7190>\n",
      "pred_mask:  <PIL.Image.Image image mode=L size=960x720 at 0x146971BC7190>\n",
      "pred_mask:  <PIL.Image.Image image mode=L size=960x720 at 0x146971BC7190>\n",
      "pred_mask:  <PIL.Image.Image image mode=L size=960x720 at 0x146971BC7190>\n",
      "pred_mask:  <PIL.Image.Image image mode=L size=960x720 at 0x146971BC7190>\n",
      "pred_mask:  <PIL.Image.Image image mode=L size=960x720 at 0x146971BC7190>\n",
      "pred_mask:  <PIL.Image.Image image mode=L size=960x720 at 0x146971BC7190>\n",
      "pred_mask:  <PIL.Image.Image image mode=L size=960x720 at 0x146971BC7190>\n",
      "pred_mask:  <PIL.Image.Image image mode=L size=960x720 at 0x146971BC7190>\n",
      "pred_mask:  <PIL.Image.Image image mode=L size=960x720 at 0x146971BC7190>\n",
      "pred_mask:  <PIL.Image.Image image mode=L size=960x720 at 0x146971BC7190>\n",
      "pred_mask:  <PIL.Image.Image image mode=L size=960x720 at 0x146971BC7190>\n",
      "pred_mask:  <PIL.Image.Image image mode=L size=960x720 at 0x146971BC7190>\n",
      "pred_mask:  <PIL.Image.Image image mode=L size=960x720 at 0x146971BC7190>\n",
      "pred_mask:  <PIL.Image.Image image mode=L size=960x720 at 0x146971BC7190>\n",
      "pred_mask:  <PIL.Image.Image image mode=L size=960x720 at 0x146971BC7190>\n",
      "pred_mask:  <PIL.Image.Image image mode=L size=960x720 at 0x146971BC7190>\n",
      "pred_mask:  <PIL.Image.Image image mode=L size=960x720 at 0x146971BC7190>\n",
      "pred_mask:  <PIL.Image.Image image mode=L size=960x720 at 0x146971BC7190>\n",
      "pred_mask:  <PIL.Image.Image image mode=L size=960x720 at 0x146971BC7190>\n",
      "pred_mask:  <PIL.Image.Image image mode=L size=960x720 at 0x146971BC7190>\n",
      "pred_mask:  <PIL.Image.Image image mode=L size=960x720 at 0x146971BC7190>\n",
      "pred_mask:  <PIL.Image.Image image mode=L size=960x720 at 0x146971BC7190>\n",
      "pred_mask:  <PIL.Image.Image image mode=L size=960x720 at 0x146971BC7190>\n",
      "pred_mask:  <PIL.Image.Image image mode=L size=960x720 at 0x146971BC7190>\n",
      "pred_mask:  <PIL.Image.Image image mode=L size=960x720 at 0x146971BC7190>\n",
      "pred_mask:  <PIL.Image.Image image mode=L size=960x720 at 0x146971BC7190>\n",
      "pred_mask:  <PIL.Image.Image image mode=L size=960x720 at 0x146971BC7190>\n",
      "pred_mask:  <PIL.Image.Image image mode=L size=960x720 at 0x146971BC7190>\n",
      "pred_mask:  <PIL.Image.Image image mode=L size=960x720 at 0x146971BC7190>\n",
      "pred_mask:  <PIL.Image.Image image mode=L size=960x720 at 0x146971BC7190>\n",
      "pred_mask:  <PIL.Image.Image image mode=L size=960x720 at 0x146971BC7190>\n",
      "pred_mask:  <PIL.Image.Image image mode=L size=960x720 at 0x146971BC7190>\n",
      "pred_mask:  <PIL.Image.Image image mode=L size=960x720 at 0x146971BC7190>\n",
      "pred_mask:  <PIL.Image.Image image mode=L size=960x720 at 0x146971BC7190>\n",
      "pred_mask:  <PIL.Image.Image image mode=L size=960x720 at 0x146971BC7190>\n",
      "pred_mask:  <PIL.Image.Image image mode=L size=960x720 at 0x146971BC7190>\n",
      "pred_mask:  <PIL.Image.Image image mode=L size=960x720 at 0x146971BC7190>\n",
      "pred_mask:  <PIL.Image.Image image mode=L size=960x720 at 0x146971BC7190>\n",
      "pred_mask:  <PIL.Image.Image image mode=L size=960x720 at 0x146971BC7190>\n",
      "pred_mask:  <PIL.Image.Image image mode=L size=960x720 at 0x146971BC7190>\n",
      "pred_mask:  <PIL.Image.Image image mode=L size=960x720 at 0x146971BC7190>\n",
      "pred_mask:  <PIL.Image.Image image mode=L size=960x720 at 0x146971BC7190>\n",
      "pred_mask:  <PIL.Image.Image image mode=L size=960x720 at 0x146971BC7190>\n",
      "pred_mask:  <PIL.Image.Image image mode=L size=960x720 at 0x146971BC7190>\n",
      "pred_mask:  <PIL.Image.Image image mode=L size=960x720 at 0x146971BC7190>\n",
      "pred_mask:  <PIL.Image.Image image mode=L size=960x720 at 0x146971BC7190>\n",
      "pred_mask:  <PIL.Image.Image image mode=L size=960x720 at 0x146971BC7190>\n",
      "pred_mask:  <PIL.Image.Image image mode=L size=960x720 at 0x146971BC7190>\n",
      "pred_mask:  <PIL.Image.Image image mode=L size=960x720 at 0x146971BC7190>\n",
      "pred_mask:  <PIL.Image.Image image mode=L size=960x720 at 0x146971BC7190>\n",
      "pred_mask:  <PIL.Image.Image image mode=L size=960x720 at 0x146971BC7190>\n",
      "pred_mask:  <PIL.Image.Image image mode=L size=960x720 at 0x146971BC7190>\n",
      "pred_mask:  <PIL.Image.Image image mode=L size=960x720 at 0x146971BC7190>\n",
      "pred_mask:  <PIL.Image.Image image mode=L size=960x720 at 0x146971BC7190>\n",
      "pred_mask:  <PIL.Image.Image image mode=L size=960x720 at 0x146971BC7190>\n",
      "pred_mask:  <PIL.Image.Image image mode=L size=960x720 at 0x146971BC7190>\n",
      "pred_mask:  <PIL.Image.Image image mode=L size=960x720 at 0x146971BC7190>\n",
      "pred_mask:  <PIL.Image.Image image mode=L size=960x720 at 0x146971BC7190>\n",
      "pred_mask:  <PIL.Image.Image image mode=L size=960x720 at 0x146971BC7190>\n",
      "pred_mask:  <PIL.Image.Image image mode=L size=960x720 at 0x146971BC7190>\n",
      "pred_mask:  <PIL.Image.Image image mode=L size=960x720 at 0x146971BC7190>\n",
      "pred_mask:  <PIL.Image.Image image mode=L size=960x720 at 0x146971BC7190>\n",
      "pred_mask:  <PIL.Image.Image image mode=L size=960x720 at 0x146971BC7190>\n",
      "pred_mask:  <PIL.Image.Image image mode=L size=960x720 at 0x146971BC7190>\n",
      "pred_mask:  <PIL.Image.Image image mode=L size=960x720 at 0x146971BC7190>\n",
      "pred_mask:  <PIL.Image.Image image mode=L size=960x720 at 0x146971BC7190>\n",
      "pred_mask:  <PIL.Image.Image image mode=L size=960x720 at 0x146971BC7190>\n",
      "pred_mask:  <PIL.Image.Image image mode=L size=960x720 at 0x146971BC7190>\n",
      "pred_mask:  <PIL.Image.Image image mode=L size=960x720 at 0x146971BC7190>\n",
      "pred_mask:  <PIL.Image.Image image mode=L size=960x720 at 0x146971BC7190>\n",
      "pred_mask:  <PIL.Image.Image image mode=L size=960x720 at 0x146971BC7190>\n",
      "pred_mask:  <PIL.Image.Image image mode=L size=960x720 at 0x146971BC7190>\n",
      "pred_mask:  <PIL.Image.Image image mode=L size=960x720 at 0x146971BC7190>\n",
      "pred_mask:  <PIL.Image.Image image mode=L size=960x720 at 0x146971BC7190>\n",
      "pred_mask:  <PIL.Image.Image image mode=L size=960x720 at 0x146971BC7190>\n",
      "pred_mask:  <PIL.Image.Image image mode=L size=960x720 at 0x146971BC7190>\n",
      "pred_mask:  <PIL.Image.Image image mode=L size=960x720 at 0x146971BC7190>\n",
      "pred_mask:  <PIL.Image.Image image mode=L size=960x720 at 0x146971BC7190>\n",
      "pred_mask:  <PIL.Image.Image image mode=L size=960x720 at 0x146971BC7190>\n",
      "pred_mask:  <PIL.Image.Image image mode=L size=960x720 at 0x146971BC7190>\n",
      "pred_mask:  <PIL.Image.Image image mode=L size=960x720 at 0x146971BC7190>\n",
      "pred_mask:  <PIL.Image.Image image mode=L size=960x720 at 0x146971BC7190>\n",
      "pred_mask:  <PIL.Image.Image image mode=L size=960x720 at 0x146971BC7190>\n",
      "pred_mask:  <PIL.Image.Image image mode=L size=960x720 at 0x146971BC7190>\n",
      "pred_mask:  <PIL.Image.Image image mode=L size=960x720 at 0x146971BC7190>\n",
      "pred_mask:  <PIL.Image.Image image mode=L size=960x720 at 0x146971BC7190>\n",
      "pred_mask:  <PIL.Image.Image image mode=L size=960x720 at 0x146971BC7190>\n",
      "pred_mask:  <PIL.Image.Image image mode=L size=960x720 at 0x146971BC7190>\n",
      "pred_mask:  <PIL.Image.Image image mode=L size=960x720 at 0x146971BC7190>\n",
      "pred_mask:  <PIL.Image.Image image mode=L size=960x720 at 0x146971BC7190>\n",
      "pred_mask:  <PIL.Image.Image image mode=L size=960x720 at 0x146971BC7190>\n",
      "pred_mask:  <PIL.Image.Image image mode=L size=960x720 at 0x146971BC7190>\n",
      "pred_mask:  <PIL.Image.Image image mode=L size=960x720 at 0x146971BC7190>\n",
      "pred_mask:  <PIL.Image.Image image mode=L size=960x720 at 0x146971BC7190>\n",
      "pred_mask:  <PIL.Image.Image image mode=L size=960x720 at 0x146971BC7190>\n",
      "pred_mask:  <PIL.Image.Image image mode=L size=960x720 at 0x146971BC7190>\n",
      "pred_mask:  <PIL.Image.Image image mode=L size=960x720 at 0x146971BC7190>\n",
      "pred_mask:  <PIL.Image.Image image mode=L size=960x720 at 0x146971BC7190>\n",
      "pred_mask:  <PIL.Image.Image image mode=L size=960x720 at 0x146971BC7190>\n",
      "pred_mask:  <PIL.Image.Image image mode=L size=960x720 at 0x146971BC7190>\n",
      "pred_mask:  <PIL.Image.Image image mode=L size=960x720 at 0x146971BC7190>\n",
      "pred_mask:  <PIL.Image.Image image mode=L size=960x720 at 0x146971BC7190>\n",
      "pred_mask:  <PIL.Image.Image image mode=L size=960x720 at 0x146971BC7190>\n",
      "pred_mask:  <PIL.Image.Image image mode=L size=960x720 at 0x146971BC7190>\n",
      "pred_mask:  <PIL.Image.Image image mode=L size=960x720 at 0x146971BC7190>\n",
      "pred_mask:  <PIL.Image.Image image mode=L size=960x720 at 0x146971BC7190>\n"
     ]
    },
    {
     "name": "stdout",
     "output_type": "stream",
     "text": [
      "self.ref_size:  (960, 720)\n",
      "self.m2f_pred_mask.shape:  torch.Size([128, 1, 720, 960])\n"
     ]
    },
    {
     "data": {
      "text/plain": [
       "MMData(\n",
       "    data = Data(coords=[135545, 3], grid_size=[1], id_scan=[1], mapping_index=[135545], mvfusion_input=[84020, 6, 10], origin_id=[135545], pos=[135545, 3], x=[135545, 3])\n",
       "    image = ImageData(num_settings=1, num_views=128, num_points=135545, device=cpu)\n",
       ")"
      ]
     },
     "execution_count": 12,
     "metadata": {},
     "output_type": "execute_result"
    }
   ],
   "source": [
    "mm_data = dataset.test_dataset[0][0]\n",
    "mm_data"
   ]
  },
  {
   "cell_type": "markdown",
   "metadata": {},
   "source": [
    "To visualize the multimodal samples produced by the dataset, we need to remove some of the dataset transforms that affect points, images and mappings. The `sample_real_data` function will be used to get samples without breaking mappings consistency for visualization.\n",
    "\n",
    "At training and evaluation time, these transforms are used for data augmentation, dynamic size batching (see our [paper](https://arxiv.org/submit/4264152)), etc..."
   ]
  },
  {
   "cell_type": "code",
   "execution_count": 9,
   "metadata": {},
   "outputs": [],
   "source": [
    "# from torch_geometric.transforms import *\n",
    "# from torch_points3d.core.data_transform import *\n",
    "# from torch_points3d.core.data_transform.multimodal.image import *\n",
    "# from torch_points3d.datasets.base_dataset import BaseDataset\n",
    "# from torch_points3d.datasets.base_dataset_multimodal import BaseDatasetMM\n",
    "\n",
    "# # Transforms on 3D points that we need to exclude for visualization purposes\n",
    "# augmentations_3d = [\n",
    "#     ElasticDistortion, Random3AxisRotation, RandomNoise, RandomRotate, \n",
    "#     RandomScaleAnisotropic, RandomSymmetry, ShiftVoxels]\n",
    "# exclude_3d_viz = augmentations_3d + [AddFeatsByKeys, Center, GridSampling3D]\n",
    "\n",
    "# # Transforms on 2D images and mappings that we need to exclude for visualization\n",
    "# # purposes\n",
    "# augmentations_2d = [JitterMappingFeatures, ColorJitter, RandomHorizontalFlip]\n",
    "# exclude_2d_viz = [RandomHorizontalFlip]\n",
    "# exclude_2d_viz = augmentations_2d + [ToFloatImage, Normalize]\n",
    "\n",
    "\n",
    "\n",
    "# def sample_real_data(tg_dataset, idx=0, exclude_3d=None, exclude_2d=None):\n",
    "#     \"\"\"\n",
    "#     Temporarily remove the 3D and 2D transforms affecting the point \n",
    "#     positions and images from the dataset to better visualize points \n",
    "#     and images relative positions.\n",
    "#     \"\"\"    \n",
    "#     # Remove some 3D transforms\n",
    "#     transform_3d = tg_dataset.transform\n",
    "#     if exclude_3d:\n",
    "#         tg_dataset.transform = BaseDataset.remove_transform(transform_3d, exclude_3d)\n",
    "\n",
    "#     # Remove some 2D transforms, if any\n",
    "#     is_multimodal = hasattr(tg_dataset, 'transform_image')\n",
    "#     if is_multimodal and exclude_2d:\n",
    "#         transform_2d = tg_dataset.transform_image\n",
    "#         tg_dataset.transform_image = BaseDatasetMM.remove_multimodal_transform(transform_2d, exclude_2d)\n",
    "    \n",
    "#     # Get a sample from the dataset, with transforms excluded\n",
    "#     out = tg_dataset[idx]\n",
    "    \n",
    "#     # Restore transforms\n",
    "#     tg_dataset.transform = transform_3d\n",
    "#     if is_multimodal and exclude_2d:\n",
    "#         tg_dataset.transform_image = transform_2d\n",
    "        \n",
    "#     return out"
   ]
  },
  {
   "cell_type": "markdown",
   "metadata": {},
   "source": [
    "## Visualize a single multimodal sample\n",
    "\n",
    "We can now pick samples from the train, val and test datasets.\n",
    "\n",
    "Please refer to `torch_points3d/visualization/multimodal_data` for more details on visualization options."
   ]
  },
  {
   "cell_type": "code",
   "execution_count": 16,
   "metadata": {
    "scrolled": false
   },
   "outputs": [
    {
     "data": {
      "text/html": [
       "<iframe\n",
       "    scrolling=\"no\"\n",
       "    width=\"1020px\"\n",
       "    height=\"520\"\n",
       "    src=\"iframe_figures/figure_16.html\"\n",
       "    frameborder=\"0\"\n",
       "    allowfullscreen\n",
       "></iframe>\n"
      ]
     },
     "metadata": {},
     "output_type": "display_data"
    },
    {
     "name": "stdout",
     "output_type": "stream",
     "text": [
      "DFD\n",
      "bacl:  x\n",
      "back is x\n",
      "LOLKEK\n",
      "x\n"
     ]
    },
    {
     "ename": "AttributeError",
     "evalue": "'Data' object has no attribute 'rgb'",
     "output_type": "error",
     "traceback": [
      "\u001b[0;31m---------------------------------------------------------------------------\u001b[0m",
      "\u001b[0;31mAttributeError\u001b[0m                            Traceback (most recent call last)",
      "\u001b[0;32m/scratch-local/fsun.2007612/ipykernel_274311/408301231.py\u001b[0m in \u001b[0;36m<module>\u001b[0;34m\u001b[0m\n\u001b[0;32m----> 1\u001b[0;31m \u001b[0mvisualize_mm_data\u001b[0m\u001b[0;34m(\u001b[0m\u001b[0mmm_data\u001b[0m\u001b[0;34m,\u001b[0m \u001b[0mclass_names\u001b[0m\u001b[0;34m=\u001b[0m\u001b[0mCLASS_NAMES\u001b[0m\u001b[0;34m,\u001b[0m \u001b[0mclass_colors\u001b[0m\u001b[0;34m=\u001b[0m\u001b[0mCLASS_COLORS\u001b[0m\u001b[0;34m,\u001b[0m \u001b[0merror_color\u001b[0m\u001b[0;34m=\u001b[0m\u001b[0;34m(\u001b[0m\u001b[0;36m0\u001b[0m\u001b[0;34m,\u001b[0m \u001b[0;36m0\u001b[0m\u001b[0;34m,\u001b[0m \u001b[0;36m0\u001b[0m\u001b[0;34m)\u001b[0m\u001b[0;34m,\u001b[0m \u001b[0mfront\u001b[0m\u001b[0;34m=\u001b[0m\u001b[0;34m'rgb'\u001b[0m\u001b[0;34m,\u001b[0m \u001b[0mback\u001b[0m\u001b[0;34m=\u001b[0m\u001b[0;34m'x'\u001b[0m\u001b[0;34m,\u001b[0m \u001b[0mfigsize\u001b[0m\u001b[0;34m=\u001b[0m\u001b[0;36m1000\u001b[0m\u001b[0;34m,\u001b[0m \u001b[0mpointsize\u001b[0m\u001b[0;34m=\u001b[0m\u001b[0;36m3\u001b[0m\u001b[0;34m,\u001b[0m \u001b[0mvoxel\u001b[0m\u001b[0;34m=\u001b[0m\u001b[0;36m0.05\u001b[0m\u001b[0;34m,\u001b[0m \u001b[0mshow_2d\u001b[0m\u001b[0;34m=\u001b[0m\u001b[0;32mTrue\u001b[0m\u001b[0;34m,\u001b[0m \u001b[0malpha\u001b[0m\u001b[0;34m=\u001b[0m\u001b[0;36m0.3\u001b[0m\u001b[0;34m)\u001b[0m\u001b[0;34m\u001b[0m\u001b[0;34m\u001b[0m\u001b[0m\n\u001b[0m\u001b[1;32m      2\u001b[0m \u001b[0;34m\u001b[0m\u001b[0m\n\u001b[1;32m      3\u001b[0m \u001b[0;31m# if it gives NotImplementedError in multimodal_data.py, please retain original features in data.data.x\u001b[0m\u001b[0;34m\u001b[0m\u001b[0;34m\u001b[0m\u001b[0;34m\u001b[0m\u001b[0m\n\u001b[1;32m      4\u001b[0m \u001b[0;31m# inside the dataset __getitem__.\u001b[0m\u001b[0;34m\u001b[0m\u001b[0;34m\u001b[0m\u001b[0;34m\u001b[0m\u001b[0m\n",
      "\u001b[0;32m/gpfs/home3/fsun/DeepViewAgg/torch_points3d/visualization/multimodal_data.py\u001b[0m in \u001b[0;36mvisualize_mm_data\u001b[0;34m(mm_data, show_3d, show_2d, path, title, no_output, **kwargs)\u001b[0m\n\u001b[1;32m    977\u001b[0m     \u001b[0;31m# Draw a figure for 2D data visualization\u001b[0m\u001b[0;34m\u001b[0m\u001b[0;34m\u001b[0m\u001b[0;34m\u001b[0m\u001b[0m\n\u001b[1;32m    978\u001b[0m     \u001b[0;32mif\u001b[0m \u001b[0mshow_2d\u001b[0m\u001b[0;34m:\u001b[0m\u001b[0;34m\u001b[0m\u001b[0;34m\u001b[0m\u001b[0m\n\u001b[0;32m--> 979\u001b[0;31m         \u001b[0mout_2d\u001b[0m \u001b[0;34m=\u001b[0m \u001b[0mvisualize_2d\u001b[0m\u001b[0;34m(\u001b[0m\u001b[0mmm_data\u001b[0m\u001b[0;34m,\u001b[0m \u001b[0;34m**\u001b[0m\u001b[0mkwargs\u001b[0m\u001b[0;34m)\u001b[0m\u001b[0;34m\u001b[0m\u001b[0;34m\u001b[0m\u001b[0m\n\u001b[0m\u001b[1;32m    980\u001b[0m         \u001b[0;32mif\u001b[0m \u001b[0mno_output\u001b[0m\u001b[0;34m:\u001b[0m\u001b[0;34m\u001b[0m\u001b[0;34m\u001b[0m\u001b[0m\n\u001b[1;32m    981\u001b[0m             \u001b[0;32mif\u001b[0m \u001b[0mpath\u001b[0m \u001b[0;32mis\u001b[0m \u001b[0;32mNone\u001b[0m\u001b[0;34m:\u001b[0m\u001b[0;34m\u001b[0m\u001b[0;34m\u001b[0m\u001b[0m\n",
      "\u001b[0;32m/gpfs/home3/fsun/DeepViewAgg/torch_points3d/visualization/multimodal_data.py\u001b[0m in \u001b[0;36mvisualize_2d\u001b[0;34m(mm_data, figsize, width, height, alpha, back_dark, class_colors, back, front, overlay_point_error, overlay_view_error, error_color, **kwargs)\u001b[0m\n\u001b[1;32m    729\u001b[0m             \u001b[0;31m# Set mapping mask to point cloud RGB colors\u001b[0m\u001b[0;34m\u001b[0m\u001b[0;34m\u001b[0m\u001b[0;34m\u001b[0m\u001b[0m\n\u001b[1;32m    730\u001b[0m             \u001b[0;32mif\u001b[0m \u001b[0;34m'rgb'\u001b[0m \u001b[0;32min\u001b[0m \u001b[0mfront\u001b[0m\u001b[0;34m:\u001b[0m\u001b[0;34m\u001b[0m\u001b[0;34m\u001b[0m\u001b[0m\n\u001b[0;32m--> 731\u001b[0;31m                 \u001b[0mcolor\u001b[0m \u001b[0;34m=\u001b[0m \u001b[0;34m(\u001b[0m\u001b[0mdata\u001b[0m\u001b[0;34m.\u001b[0m\u001b[0mrgb\u001b[0m \u001b[0;34m*\u001b[0m \u001b[0;36m255\u001b[0m\u001b[0;34m)\u001b[0m\u001b[0;34m.\u001b[0m\u001b[0mtype\u001b[0m\u001b[0;34m(\u001b[0m\u001b[0mtorch\u001b[0m\u001b[0;34m.\u001b[0m\u001b[0muint8\u001b[0m\u001b[0;34m)\u001b[0m\u001b[0;34m\u001b[0m\u001b[0;34m\u001b[0m\u001b[0m\n\u001b[0m\u001b[1;32m    732\u001b[0m                 color = color.repeat_interleave(\n\u001b[1;32m    733\u001b[0m                     \u001b[0mim\u001b[0m\u001b[0;34m.\u001b[0m\u001b[0mmappings\u001b[0m\u001b[0;34m.\u001b[0m\u001b[0mpointers\u001b[0m\u001b[0;34m[\u001b[0m\u001b[0;36m1\u001b[0m\u001b[0;34m:\u001b[0m\u001b[0;34m]\u001b[0m \u001b[0;34m-\u001b[0m \u001b[0mim\u001b[0m\u001b[0;34m.\u001b[0m\u001b[0mmappings\u001b[0m\u001b[0;34m.\u001b[0m\u001b[0mpointers\u001b[0m\u001b[0;34m[\u001b[0m\u001b[0;34m:\u001b[0m\u001b[0;34m-\u001b[0m\u001b[0;36m1\u001b[0m\u001b[0;34m]\u001b[0m\u001b[0;34m,\u001b[0m\u001b[0;34m\u001b[0m\u001b[0;34m\u001b[0m\u001b[0m\n",
      "\u001b[0;31mAttributeError\u001b[0m: 'Data' object has no attribute 'rgb'"
     ]
    }
   ],
   "source": [
    "visualize_mm_data(mm_data, class_names=CLASS_NAMES, class_colors=CLASS_COLORS, error_color=(0, 0, 0), front='rgb', back='x', figsize=1000, pointsize=3, voxel=0.05, show_2d=True, alpha=0.3)\n",
    "\n",
    "# if it gives NotImplementedError in multimodal_data.py, please retain original features in data.data.x \n",
    "# inside the dataset __getitem__."
   ]
  },
  {
   "cell_type": "markdown",
   "metadata": {},
   "source": [
    "## Run inference from pretrained weights and visualize predictions\n",
    "It is possible to visualize the pointwise predictions and errors from a model. \n",
    "\n",
    "To do so, we will use the pretrained weights made available with this project. See `README.md` to get the download links and manually place the `.pt` files locally. You will need to provide `checkpoint_dir` where you saved those files in the next cell."
   ]
  },
  {
   "cell_type": "code",
   "execution_count": null,
   "metadata": {},
   "outputs": [],
   "source": [
    "from torch_points3d.models.model_factory import instantiate_model\n",
    "\n",
    "# Set your parameters\n",
    "# checkpoint_dir = '/home/fsun/DeepViewAgg/outputs/2022-12-04/15-22-16' # MVFusion_3D_small default m2f_masks\n",
    "# checkpoint_dir = '/home/fsun/DeepViewAgg/outputs/2022-12-07/12-07-34' # 3rd run\n",
    "\n",
    "# ViT_masks 3rd run\n",
    "checkpoint_dir = '/home/fsun/DeepViewAgg/outputs/ViT_masks_3rd_run' # 3rd run\n",
    "\n",
    "\n",
    "        \n",
    "# # checkpoint_dir = '/home/fsun/DeepViewAgg/outputs/2022-12-04/15-48-56' # MVFusion_3D_small default swin_l_early\n",
    "\n",
    "\n",
    "# checkpoint_dir = '/project/fsun/DeepViewAgg/outputs/2022-11-04/15-51-33' # 3D Backbone, 68.04 miou\n",
    "# checkpoint_dir = '/home/fsun/DeepViewAgg/model_checkpoints' # DVA best model\n",
    "\n",
    "# Create the model\n",
    "print(f\"Creating model: {cfg.model_name}\")\n",
    "model = instantiate_model(cfg, dataset)\n",
    "# print(model)\n",
    "\n",
    "# Load the checkpoint and recover the 'best_miou' model weights\n",
    "checkpoint = torch.load(f'{checkpoint_dir}/{model_name}.pt', map_location='cpu')\n",
    "model.load_state_dict_with_same_shape(checkpoint['models']['latest'], strict=False)\n",
    "\n",
    "# Prepare the model for inference\n",
    "model = model.eval().cuda()\n",
    "print('Model loaded')"
   ]
  },
  {
   "cell_type": "markdown",
   "metadata": {},
   "source": [
    "Now we have loaded the model, we need to run a forward pass on a sample. Howver, if we want to be able to visualize the predictions, we need to pay special attention to which type of 3D and 2D transforms we apply on the data if we do not want to break the mappings. To do so, we will manually apply some sensitive transforms to be able to both infer on the data and visualize it."
   ]
  },
  {
   "cell_type": "code",
   "execution_count": null,
   "metadata": {},
   "outputs": [],
   "source": [
    "i_room = 0\n",
    "\n",
    "# Pick a room in the Train set\n",
    "mm_data = sample_real_data(dataset.train_dataset, idx=i_room, exclude_3d=exclude_3d_viz, exclude_2d=exclude_2d_viz)\n",
    "\n",
    "# Pick a room in the Val set\n",
    "# mm_data = sample_real_data(dataset.val_dataset, idx=i_room, exclude_3d=exclude_3d_viz, exclude_2d=exclude_2d_viz)\n",
    "\n",
    "# Pick a room in the Test set\n",
    "# mm_data = sample_real_data(dataset.test_dataset[0], idx=i_room, exclude_3d=exclude_3d_viz, exclude_2d=exclude_2d_viz)\n",
    "\n",
    "# Extract point cloud and images from MMData object\n",
    "data = mm_data.data.clone()\n",
    "images = mm_data.modalities['image'].clone()\n",
    "\n",
    "data"
   ]
  },
  {
   "cell_type": "code",
   "execution_count": null,
   "metadata": {},
   "outputs": [],
   "source": [
    "# Run cell for validation sample with original validation transformations\n",
    "mm_data = dataset.val_dataset[0]\n",
    "\n",
    "# data = mm_data.data.clone()\n",
    "# images = mm_data.modalities['image'].clone()\n",
    "# data"
   ]
  },
  {
   "cell_type": "code",
   "execution_count": null,
   "metadata": {},
   "outputs": [],
   "source": [
    "mm_data"
   ]
  },
  {
   "cell_type": "code",
   "execution_count": null,
   "metadata": {},
   "outputs": [],
   "source": [
    "# For voxel-based 3D backbones such as SparseConv3d and MinkowskiNet, points need to be \n",
    "# preprocessed with Center and GridSampling3D. Unfortunately, Center breaks relative \n",
    "# positions between points and images. Besides, the combination of Center and GridSampling3D\n",
    "# may lead to some points being merged into the same voxels, so we must apply it to both the\n",
    "# inference and visualization data to make sure we have the same voxels. The workaround here \n",
    "# is to manually run these while keeping track of the centering offset\n",
    "center = data.pos.mean(dim=-2, keepdim=True)\n",
    "data = AddFeatsByKeys(list_add_to_x=[True, True, True], feat_names=['pos_x', 'pos_y', 'pos_z'], delete_feats=[True, True, True])(data)          # add z-height to the features\n",
    "data = Center()(data)                                                                                 # mean-center the data\n",
    "data = GridSampling3D(cfg.data.resolution_3d, quantize_coords=True, mode='last')(data)                # quantization for volumetric models\n",
    "\n",
    "# This last voxelization step with GridSampling3D might have removed some points, so we need\n",
    "# to update the mappings usign SelectMappingFromPointId. To control the size of the batch, we\n",
    "# use PickImagesFromMemoryCredit. Besides, 2D models expect normalized float images, which is\n",
    "# why we call ToFloatImage and Normalize\n",
    "data, images = SelectMappingFromPointId()(data, images)                                               # update mappings after GridSampling3D\n",
    "data, images = PickImagesFromMemoryCredit(\n",
    "    img_size=cfg.data.resolution_2d, \n",
    "    k_coverage=cfg.data.multimodal.settings.k_coverage, \n",
    "    n_img=cfg.data.multimodal.settings.test_pixel_credit)(data, images)                                      # select images to respect memory constraints\n",
    "data, images_infer = ToFloatImage()(data, images.clone())                                             # convert uint8 images to float\n",
    "data, images_infer = Normalize()(data, images_infer)                                                  # RGB normalization\n",
    "\n",
    "# Create a MMData for inference\n",
    "mm_data_infer = MMData(data, image=images_infer)\n",
    "print(mm_data_infer)\n",
    "\n",
    "# Create a MMBatch and run inference\n",
    "batch = MMBatch.from_mm_data_list([mm_data_infer])\n",
    "\n",
    "with torch.no_grad():\n",
    "    print(\"input batch: \", batch)\n",
    "    model.set_input(batch, model.device)\n",
    "    model(batch)\n",
    "\n",
    "# Create a MMData for visualization\n",
    "data.pos += center\n",
    "mm_data = MMData(data, image=images)\n",
    "\n",
    "# Recover the predicted labels for visualization\n",
    "mm_data.data.pred = model.output.detach().cpu().argmax(1)"
   ]
  },
  {
   "cell_type": "code",
   "execution_count": null,
   "metadata": {},
   "outputs": [],
   "source": [
    "# Run inference with augmentations\n",
    "# mm_data = dataset.train_dataset[0]\n",
    "mm_data = dataset.val_dataset[0]\n",
    "# mm_data = dataset.test_dataset[0][0]\n",
    "\n",
    "# Create a MMBatch and run inference\n",
    "batch = MMBatch.from_mm_data_list([mm_data])\n",
    "\n",
    "with torch.no_grad():\n",
    "    print(\"input batch: \", batch)\n",
    "    model.set_input(batch, model.device)\n",
    "    model(batch)\n",
    "    \n",
    "# Recover the predicted labels for visualization\n",
    "mm_data.data.pred = model.output.detach().cpu().argmax(1)"
   ]
  },
  {
   "cell_type": "code",
   "execution_count": null,
   "metadata": {},
   "outputs": [],
   "source": [
    "CLASS_COLORS[0] = (174.0, 199.0, 232.0)\n",
    "CLASS_COLORS[-1] = (0, 0, 0)\n",
    "# CLASS_COLORS"
   ]
  },
  {
   "cell_type": "code",
   "execution_count": null,
   "metadata": {},
   "outputs": [],
   "source": [
    "### Select seen points\n",
    "csr_idx = mm_data.modalities['image'][0].view_csr_indexing\n",
    "dense_idx_list = torch.arange(mm_data.modalities['image'][0].num_points).repeat_interleave(csr_idx[1:] - csr_idx[:-1])\n",
    "# take subset of only seen points without re-indexing the same point\n",
    "mm_data = mm_data[dense_idx_list.unique()]\n"
   ]
  },
  {
   "cell_type": "code",
   "execution_count": null,
   "metadata": {},
   "outputs": [],
   "source": [
    "# Randomly sample views\n",
    "mm_data.modalities['image'] = ImageData(mm_data.modalities['image'][0][:25])"
   ]
  },
  {
   "cell_type": "code",
   "execution_count": null,
   "metadata": {},
   "outputs": [],
   "source": [
    "print(mm_data.data)\n",
    "mm_data = mm_data[mm_data.pos[:, 1] <= 3.29]\n",
    "# mm_data.modalities['image'] = None\n",
    "# mm_data"
   ]
  },
  {
   "cell_type": "code",
   "execution_count": null,
   "metadata": {},
   "outputs": [],
   "source": [
    "fig = visualize_mm_data(mm_data, no_output=True, figsize=1000, pointsize=3, voxel=0.05, show_2d=False, back='x', front='y', class_names=CLASS_NAMES, class_colors=CLASS_COLORS, alpha=0.3)"
   ]
  },
  {
   "cell_type": "code",
   "execution_count": null,
   "metadata": {},
   "outputs": [],
   "source": [
    "def get_mode_pred(data):\n",
    "    pixel_validity = data.data.mvfusion_input[:, :, 0].bool()\n",
    "    mv_preds = data.data.mvfusion_input[:, :, -1].long()\n",
    "            \n",
    "    valid_m2f_feats = []\n",
    "    for i in range(len(mv_preds)):\n",
    "        valid_m2f_feats.append(mv_preds[i][pixel_validity[i]])\n",
    "\n",
    "    mode_preds = []\n",
    "    for m2feats_of_seen_point in valid_m2f_feats:\n",
    "        mode_preds.append(torch.mode(m2feats_of_seen_point.squeeze(), dim=0)[0])\n",
    "    mode_preds = torch.stack(mode_preds, dim=0)\n",
    "        \n",
    "    return mode_preds\n",
    "\n",
    "mode_preds = get_mode_pred(mm_data)"
   ]
  },
  {
   "cell_type": "code",
   "execution_count": null,
   "metadata": {},
   "outputs": [],
   "source": [
    "print(mode_preds.shape)\n",
    "print(mm_data.data.pred.shape)"
   ]
  },
  {
   "cell_type": "code",
   "execution_count": null,
   "metadata": {},
   "outputs": [],
   "source": [
    "m2f_mm_data = mm_data.clone()\n",
    "m2f_mm_data.data.x = None\n",
    "m2f_mm_data.data.pred = mode_preds\n",
    "# m2f_mm_data.data.pred = m2f_mm_data.data.pred[m2f_mm_data.data.y != -1]\n",
    "m2f_mm_data = m2f_mm_data[m2f_mm_data.data.y != -1]\n",
    "\n",
    "visualize_mm_data(m2f_mm_data, figsize=1000, pointsize=3, voxel=0.05, show_2d=False, back='m2f_mask_pred', front='y', class_names=CLASS_NAMES, class_colors=CLASS_COLORS, alpha=0.3)"
   ]
  },
  {
   "cell_type": "code",
   "execution_count": null,
   "metadata": {},
   "outputs": [],
   "source": []
  },
  {
   "cell_type": "code",
   "execution_count": null,
   "metadata": {},
   "outputs": [],
   "source": []
  },
  {
   "cell_type": "code",
   "execution_count": null,
   "metadata": {},
   "outputs": [],
   "source": [
    "mm_data.data.x = None\n",
    "mm_data.data.pred = mm_data.data.pred[mm_data.data.y != -1]\n",
    "mm_data = mm_data[mm_data.data.y != -1]\n",
    "\n",
    "\n",
    "print(mm_data.data.pred.unique())\n",
    "mm_data.data.y.unique()"
   ]
  },
  {
   "cell_type": "code",
   "execution_count": null,
   "metadata": {
    "scrolled": true
   },
   "outputs": [],
   "source": [
    "visualize_mm_data(mm_data, figsize=1000, pointsize=3, voxel=0.05, show_2d=False, back='m2f_pred_mask', front='y', class_names=CLASS_NAMES, class_colors=CLASS_COLORS, alpha=0.3)"
   ]
  },
  {
   "cell_type": "markdown",
   "metadata": {},
   "source": [
    "# Swin_l_early masks"
   ]
  },
  {
   "cell_type": "code",
   "execution_count": null,
   "metadata": {},
   "outputs": [],
   "source": [
    "m2f_mm_data = mm_data.clone()\n",
    "m2f_mm_data.data.x = None\n",
    "m2f_mm_data.data.pred = mode_preds\n",
    "# m2f_mm_data.data.pred = m2f_mm_data.data.pred[m2f_mm_data.data.y != -1]\n",
    "m2f_mm_data = m2f_mm_data[m2f_mm_data.data.y != -1]\n",
    "\n",
    "visualize_mm_data(m2f_mm_data, figsize=1000, pointsize=3, voxel=0.05, show_2d=False, back='m2f_mask_pred', front='y', class_names=CLASS_NAMES, class_colors=CLASS_COLORS, alpha=0.3)"
   ]
  },
  {
   "cell_type": "code",
   "execution_count": null,
   "metadata": {},
   "outputs": [],
   "source": [
    "visualize_mm_data(mm_data, figsize=1000, pointsize=3, voxel=0.05, show_2d=False, back='m2f_pred_mask', front='y', class_names=CLASS_NAMES, class_colors=CLASS_COLORS, alpha=0.3)"
   ]
  },
  {
   "cell_type": "code",
   "execution_count": null,
   "metadata": {},
   "outputs": [],
   "source": [
    "### Calculate number of correct predictions (accuracy)\n",
    "\n",
    "print(sum(mm_data.y == mm_data.pred) / len(mm_data.y))\n",
    "\n",
    "print(sum(m2f_mm_data.y == m2f_mm_data.pred) / len(m2f_mm_data.y))\n"
   ]
  },
  {
   "cell_type": "code",
   "execution_count": null,
   "metadata": {},
   "outputs": [],
   "source": []
  },
  {
   "cell_type": "code",
   "execution_count": null,
   "metadata": {},
   "outputs": [],
   "source": []
  },
  {
   "cell_type": "code",
   "execution_count": null,
   "metadata": {},
   "outputs": [],
   "source": [
    "i_room = 0\n",
    "\n",
    "# Pick a room in the Train set\n",
    "mm_data = sample_real_data(dataset.train_dataset, idx=i_room, exclude_3d=exclude_3d_viz, exclude_2d=exclude_2d_viz)\n",
    "\n",
    "# Pick a room in the Val set\n",
    "# mm_data = sample_real_data(dataset.val_dataset, idx=i_room, exclude_3d=exclude_3d_viz, exclude_2d=exclude_2d_viz)\n",
    "\n",
    "# Pick a room in the Test set\n",
    "# mm_data = sample_real_data(dataset.test_dataset[0], idx=i_room, exclude_3d=exclude_3d_viz, exclude_2d=exclude_2d_viz)\n",
    "\n",
    "# Extract point cloud and images from MMData object\n",
    "data = mm_data.data.clone()\n",
    "images = mm_data.modalities['image'].clone()\n",
    "\n",
    "data"
   ]
  },
  {
   "cell_type": "code",
   "execution_count": null,
   "metadata": {},
   "outputs": [],
   "source": [
    "mm_data = dataset.train_dataset[0]"
   ]
  },
  {
   "cell_type": "code",
   "execution_count": null,
   "metadata": {},
   "outputs": [],
   "source": [
    "### Select seen points\n",
    "csr_idx = mm_data.modalities['image'][0].view_csr_indexing\n",
    "dense_idx_list = torch.arange(mm_data.modalities['image'][0].num_points).repeat_interleave(csr_idx[1:] - csr_idx[:-1])\n",
    "# take subset of only seen points without re-indexing the same point\n",
    "mm_data = mm_data[dense_idx_list.unique()]"
   ]
  },
  {
   "cell_type": "code",
   "execution_count": null,
   "metadata": {},
   "outputs": [],
   "source": [
    "mode_preds = get_mode_pred(mm_data)\n",
    "m2f_mm_data = mm_data.clone()\n",
    "m2f_mm_data.data.x = None\n",
    "m2f_mm_data.data.pred = mode_preds\n",
    "# m2f_mm_data.data.pred = m2f_mm_data.data.pred[m2f_mm_data.data.y != -1]\n",
    "m2f_mm_data = m2f_mm_data[m2f_mm_data.data.y != -1]\n",
    "\n",
    "visualize_mm_data(m2f_mm_data, figsize=1000, pointsize=3, voxel=0.05, show_2d=False, back='m2f_mask_pred', front='y', class_names=CLASS_NAMES, class_colors=CLASS_COLORS, alpha=0.3)"
   ]
  },
  {
   "cell_type": "code",
   "execution_count": null,
   "metadata": {},
   "outputs": [],
   "source": [
    "mode_preds = get_mode_pred(mm_data)\n",
    "m2f_mm_data = mm_data.clone()\n",
    "m2f_mm_data.data.x = None\n",
    "m2f_mm_data.data.pred = mode_preds\n",
    "# m2f_mm_data.data.pred = m2f_mm_data.data.pred[m2f_mm_data.data.y != -1]\n",
    "m2f_mm_data = m2f_mm_data[m2f_mm_data.data.y != -1]\n",
    "\n",
    "visualize_mm_data(m2f_mm_data, figsize=1000, pointsize=3, voxel=0.05, show_2d=False, back='m2f_mask_pred', front='y', class_names=CLASS_NAMES, class_colors=CLASS_COLORS, alpha=0.3)"
   ]
  },
  {
   "cell_type": "code",
   "execution_count": null,
   "metadata": {},
   "outputs": [],
   "source": [
    "mm_data.modalities['image'][0].extrinsic"
   ]
  },
  {
   "cell_type": "code",
   "execution_count": null,
   "metadata": {},
   "outputs": [],
   "source": [
    "mm_data.modalities['image'][0].extrinsic"
   ]
  },
  {
   "cell_type": "markdown",
   "metadata": {},
   "source": [
    "### Visualize a scan"
   ]
  },
  {
   "cell_type": "code",
   "execution_count": null,
   "metadata": {},
   "outputs": [],
   "source": [
    "mm_data = dataset.val_dataset[0]"
   ]
  },
  {
   "cell_type": "code",
   "execution_count": null,
   "metadata": {},
   "outputs": [],
   "source": [
    "### Select seen points\n",
    "csr_idx = mm_data.modalities['image'][0].view_csr_indexing\n",
    "dense_idx_list = torch.arange(mm_data.modalities['image'][0].num_points).repeat_interleave(csr_idx[1:] - csr_idx[:-1])\n",
    "# take subset of only seen points without re-indexing the same point\n",
    "seen_mm_data = mm_data[dense_idx_list.unique()]\n",
    "seen_mm_data[54945:54946]"
   ]
  },
  {
   "cell_type": "code",
   "execution_count": null,
   "metadata": {},
   "outputs": [],
   "source": [
    "print(seen_mm_data)\n",
    "seen_mm_data = seen_mm_data[seen_mm_data.pos[:, 1] <= 3.29]\n",
    "seen_mm_data"
   ]
  },
  {
   "cell_type": "code",
   "execution_count": null,
   "metadata": {},
   "outputs": [],
   "source": [
    "seen_mm_data.modalities['image'] = None\n"
   ]
  },
  {
   "cell_type": "code",
   "execution_count": null,
   "metadata": {},
   "outputs": [],
   "source": [
    "visualize_mm_data(seen_mm_data, figsize=1000, pointsize=3, voxel=0.05, show_2d=False, back='x', front='y', class_names=CLASS_NAMES, class_colors=CLASS_COLORS, alpha=0.3)"
   ]
  },
  {
   "cell_type": "code",
   "execution_count": null,
   "metadata": {},
   "outputs": [],
   "source": [
    "from PIL import Image"
   ]
  },
  {
   "cell_type": "code",
   "execution_count": null,
   "metadata": {
    "scrolled": false
   },
   "outputs": [],
   "source": [
    "imgs = np.array(['/project/fsun/dvata/scannet-neucon-smallres-m2f/raw/scans/scene0011_00/sens/color/1138.jpg',\n",
    "        '/project/fsun/dvata/scannet-neucon-smallres-m2f/raw/scans/scene0011_00/sens/color/1604.jpg',\n",
    "        '/project/fsun/dvata/scannet-neucon-smallres-m2f/raw/scans/scene0011_00/sens/color/1188.jpg'])\n",
    "\n",
    "masks = np.array(['/home/fsun/data/scannet/scans/scene0011_00/ViT_masks/1138.jpg',\n",
    "        '/home/fsun/data/scannet/scans/scene0011_00/ViT_masks/1604.jpg',\n",
    "        '/home/fsun/data/scannet/scans/scene0011_00/ViT_masks/1188.jpg'])\n",
    "\n",
    "for i, im in enumerate(masks):\n",
    "#     im = im.split(\"/\")\n",
    "#     im[1] = 'home'\n",
    "#     im[-3] = 'color_resized'\n",
    "#     im.pop(-2)\n",
    "#     im = \"/\".join(im)\n",
    "    im = im.replace(\"jpg\", \"png\")\n",
    "    seg_im = Image.open(im)\n",
    "    seg_im_np = np.array(seg_im) -1\n",
    "    \n",
    "    if i == 2:\n",
    "        seg_im_np[seg_im_np == 4] = 5\n",
    "    print(np.unique(seg_im_np))\n",
    "\n",
    "    seg_im_rgb = np.array(CLASS_COLORS)[seg_im_np.astype(int)]\n",
    "\n",
    "    seg_im_rgb = Image.fromarray(seg_im_rgb.astype(np.uint8))\n",
    "    plt.imshow(seg_im_rgb)\n",
    "    plt.show()\n",
    "    \n",
    "      "
   ]
  },
  {
   "cell_type": "code",
   "execution_count": null,
   "metadata": {},
   "outputs": [],
   "source": []
  }
 ],
 "metadata": {
  "kernelspec": {
   "display_name": "pytorch3d",
   "language": "python",
   "name": "pytorch3d"
  },
  "language_info": {
   "codemirror_mode": {
    "name": "ipython",
    "version": 3
   },
   "file_extension": ".py",
   "mimetype": "text/x-python",
   "name": "python",
   "nbconvert_exporter": "python",
   "pygments_lexer": "ipython3",
   "version": "3.7.13"
  }
 },
 "nbformat": 4,
 "nbformat_minor": 4
}
