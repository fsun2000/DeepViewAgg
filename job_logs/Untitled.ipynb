{
 "cells": [
  {
   "cell_type": "code",
   "execution_count": null,
   "id": "17f0ee5f",
   "metadata": {},
   "outputs": [],
   "source": []
  }
 ],
 "metadata": {
  "kernelspec": {
   "display_name": "deep_view_agg",
   "language": "python",
   "name": "deep_view_aggregation"
  }
 },
 "nbformat": 4,
 "nbformat_minor": 5
}
