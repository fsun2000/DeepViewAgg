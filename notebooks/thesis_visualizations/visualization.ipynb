{
 "cells": [
  {
   "cell_type": "code",
   "execution_count": 108,
   "id": "9758d722",
   "metadata": {},
   "outputs": [],
   "source": [
    "# # Uncomment to use autoreload\n",
    "# %load_ext autoreload\n",
    "# %autoreload 2\n",
    "\n",
    "# import os\n",
    "# import os.path as osp\n",
    "# import sys\n",
    "# import torch\n",
    "# import numpy as np\n",
    "# from time import time\n",
    "# from omegaconf import OmegaConf\n",
    "# start = time()\n",
    "# import warnings\n",
    "# warnings.filterwarnings('ignore')\n",
    "\n",
    "# # torch.cuda.set_device(I_GPU)\n",
    "# DIR = os.path.dirname(os.getcwd())\n",
    "# ROOT = os.path.join(DIR, \"..\")\n",
    "# sys.path.insert(0, ROOT)\n",
    "# sys.path.insert(0, DIR)\n",
    "\n",
    "# from torch_points3d.utils.config import hydra_read\n",
    "# from torch_geometric.data import Data\n",
    "# from torch_points3d.core.multimodal.data import MMData, MMBatch\n",
    "# from torch_points3d.visualization.multimodal_data import visualize_mm_data\n",
    "# from torch_points3d.core.multimodal.image import SameSettingImageData, ImageData\n",
    "# from torch_points3d.datasets.segmentation.multimodal.scannet import ScannetDatasetMM\n",
    "# from torch_points3d.datasets.segmentation.scannet import CLASS_COLORS, CLASS_NAMES, CLASS_LABELS\n",
    "# from torch_points3d.metrics.segmentation_tracker import SegmentationTracker\n",
    "# from torch_points3d.datasets.segmentation import IGNORE_LABEL\n",
    "# from torch_points3d.metrics.scannet_segmentation_tracker import ScannetSegmentationTracker\n",
    "# from torch_points3d.metrics.colored_tqdm import Coloredtqdm as Ctq\n",
    "\n",
    "\n",
    "# CLASS_COLORS[0] = (174.0, 199.0, 232.0)\n",
    "# CLASS_COLORS[-1] = (0, 0, 0)\n",
    "# import plotly.io as pio\n",
    "# import seaborn as sns\n",
    "\n",
    "# #pio.renderers.default = 'jupyterlab'        # for local notebook\n",
    "# pio.renderers.default = 'iframe_connected'  # for remote notebook. Other working (but seemingly slower) options are: 'sphinx_gallery' and 'iframe'\n",
    "\n",
    "# import matplotlib.pyplot as plt \n",
    "# %matplotlib inline"
   ]
  },
  {
   "cell_type": "code",
   "execution_count": 109,
   "id": "7c64523b",
   "metadata": {},
   "outputs": [],
   "source": [
    "# def get_seen_points(mm_data):\n",
    "#     ### Select seen points\n",
    "#     csr_idx = mm_data.modalities['image'][0].view_csr_indexing\n",
    "#     dense_idx_list = torch.arange(mm_data.modalities['image'][0].num_points).repeat_interleave(csr_idx[1:] - csr_idx[:-1])\n",
    "#     # take subset of only seen points without re-indexing the same point\n",
    "#     mm_data = mm_data[dense_idx_list.unique()]\n",
    "#     return mm_data\n",
    "\n",
    "# def get_mode_pred(data):\n",
    "#     pixel_validity = data.data.mvfusion_input[:, :, 0].bool()\n",
    "#     mv_preds = data.data.mvfusion_input[:, :, -1].long()\n",
    "            \n",
    "#     valid_m2f_feats = []\n",
    "#     for i in range(len(mv_preds)):\n",
    "#         valid_m2f_feats.append(mv_preds[i][pixel_validity[i]])\n",
    "\n",
    "#     mode_preds = []\n",
    "#     for m2feats_of_seen_point in valid_m2f_feats:\n",
    "#         mode_preds.append(torch.mode(m2feats_of_seen_point.squeeze(), dim=0)[0])\n",
    "#     mode_preds = torch.stack(mode_preds, dim=0)\n",
    "        \n",
    "#     return mode_preds\n",
    "\n",
    "# def get_random_view_pred(data):\n",
    "#     pixel_validity = data.data.mvfusion_input[:, :, 0].bool()\n",
    "#     mv_preds = data.data.mvfusion_input[:, :, -1].long()\n",
    "            \n",
    "#     valid_m2f_feats = []\n",
    "#     for i in range(len(mv_preds)):\n",
    "#         valid_m2f_feats.append(mv_preds[i][pixel_validity[i]])\n",
    "\n",
    "#     selected_view_preds = []\n",
    "#     for m2feats_of_seen_point in valid_m2f_feats:\n",
    "#         selected_idx = torch.randint(low=0, high=m2feats_of_seen_point.shape[0], size=(1,))\n",
    "#         selected_pred = m2feats_of_seen_point[selected_idx].squeeze(0)\n",
    "#         selected_view_preds.append(selected_pred)\n",
    "#     selected_view_preds = torch.stack(selected_view_preds, dim=0)\n",
    "        \n",
    "#     return selected_view_preds\n"
   ]
  },
  {
   "cell_type": "code",
   "execution_count": 110,
   "id": "69a76901",
   "metadata": {},
   "outputs": [],
   "source": [
    "# # Set your dataset root directory, where the data was/will be downloaded\n",
    "# DATA_ROOT = '/scratch-shared/fsun/dvata'\n",
    "\n",
    "# dataset_config = 'segmentation/multimodal/Feng/scannet-neucon-smallres-m2f-allviews'   \n",
    "\n",
    "\n",
    "# print(\"Load MVFusion_3D\")\n",
    "# models_config = 'segmentation/multimodal/Feng/mvfusion'    # model family\n",
    "# model_name = 'MVFusion_3D_small'                       # specific model\n",
    "\n",
    "\n",
    "# # print(\"Load MVFusion\")\n",
    "# # dataset_config = 'segmentation/multimodal/Feng/scannet-neucon-smallres-m2f-no-transforms'   \n",
    "# # models_config = 'segmentation/multimodal/Feng/mvfusion_orig'    # model family\n",
    "# # model_name = 'MVFusion_orig'\n",
    "\n",
    "# overrides = [\n",
    "#     'task=segmentation',\n",
    "#     f'data={dataset_config}',\n",
    "#     f'models={models_config}',\n",
    "#     f'model_name={model_name}',\n",
    "#     f'data.dataroot={DATA_ROOT}',\n",
    "# ]\n",
    "\n",
    "# cfg = hydra_read(overrides)\n",
    "# OmegaConf.set_struct(cfg, False)  # This allows getattr and hasattr methods to function correctly\n",
    "# cfg.data.load_m2f_masks = True   # load Mask2Former predicted masks\n",
    "# cfg.data.m2f_preds_dirname = 'm2f_masks'\n",
    "# cfg.data.n_views = cfg.models[model_name].backbone.transformer.n_views\n",
    "# print(cfg.data.n_views)\n",
    "\n",
    "# # Dataset instantiation\n",
    "# start = time()\n",
    "# dataset = ScannetDatasetMM(cfg.data)\n",
    "# # print(dataset)|\n",
    "# print(f\"Time = {time() - start:0.1f} sec.\")"
   ]
  },
  {
   "cell_type": "code",
   "execution_count": 111,
   "id": "1e1a1f81",
   "metadata": {},
   "outputs": [],
   "source": [
    "# from torch_points3d.models.model_factory import instantiate_model\n",
    "\n",
    "# # ViT_masks 3rd run\n",
    "# # checkpoint_dir = '/home/fsun/DeepViewAgg/outputs/ViT_masks_3rd_run' # 3rd run\n",
    "\n",
    "# # ViT_masks 9 views, MVFusion_3D_small\n",
    "# checkpoint_dir = '/home/fsun/DeepViewAgg/outputs/2023-01-25/16-02-53'\n",
    "\n",
    "\n",
    "# # # MVFusion_orig\n",
    "# # checkpoint_dir = '/home/fsun/DeepViewAgg/outputs/MVFusion_orig'\n",
    "\n",
    "\n",
    "\n",
    "# # Create the model\n",
    "# print(f\"Creating model: {cfg.model_name}\")\n",
    "# model = instantiate_model(cfg, dataset)\n",
    "# # print(model)\n",
    "\n",
    "# # Load the checkpoint and recover the 'best_miou' model weights\n",
    "# checkpoint = torch.load(f'{checkpoint_dir}/{model_name}.pt', map_location='cpu')\n",
    "# model.load_state_dict_with_same_shape(checkpoint['models']['best_miou'], strict=False)\n",
    "\n",
    "# # Prepare the model for training\n",
    "# model = model.cuda()\n",
    "# print('Model loaded')"
   ]
  },
  {
   "cell_type": "code",
   "execution_count": 112,
   "id": "6e54d458",
   "metadata": {},
   "outputs": [],
   "source": [
    "# # Load refined masks\n",
    "# # dataset.val_dataset.m2f_preds_dirname = 'm2f_masks_refined/Deepset_3D'\n",
    "# # dataset.val_dataset.gt_dir_name = 'm2f_masks_refined/Deepset_3D'\n",
    "# print(dataset.val_dataset.m2f_preds_dirname)\n",
    "# print(dataset.val_dataset.gt_dir_name)\n",
    "\n",
    "# # Create validation loader\n",
    "# dataset.create_dataloaders(\n",
    "#     model,\n",
    "#     1,\n",
    "#     False,\n",
    "#     17,\n",
    "#     False,\n",
    "#     train_only=False,\n",
    "#     val_only=True,\n",
    "#     test_batch_size=1\n",
    "# )\n",
    "\n",
    "# # Create segmentation tracker\n",
    "# tracker_input = ScannetSegmentationTracker(dataset=dataset, stage='val', wandb_log=False, use_tensorboard=False, ignore_label=IGNORE_LABEL)\n",
    "# tracker_refined = ScannetSegmentationTracker(dataset=dataset, stage='val', wandb_log=False, use_tensorboard=False, ignore_label=IGNORE_LABEL)\n",
    "\n",
    "\n",
    "# with Ctq(dataset.val_dataloader) as loader:\n",
    "#     for batch in loader:\n",
    "#         # Input and refined masks, labels sampled based on the 2D-3D mapping\n",
    "#         input_pred = batch.modalities['image'][0].get_mapped_m2f_features().flatten()\n",
    "#         refined_pred = batch.modalities['image'][0].get_mapped_gt_labels().flatten()# + 1   # label off-set \n",
    "        \n",
    "#         # Number of views for each point\n",
    "#         csr_idx = batch.modalities['image'][0].view_csr_indexing\n",
    "#         n_seen = csr_idx[1:] - csr_idx[:-1]\n",
    "        \n",
    "#         gt = batch.y\n",
    "#         gt = torch.repeat_interleave(gt, n_seen)\n",
    "\n",
    "#         tracker_input.track(pred_labels=input_pred, gt_labels=gt, model=None)\n",
    "#         tracker_refined.track(pred_labels=refined_pred, gt_labels=gt, model=None)\n",
    "        \n",
    "# print(tracker_input.get_metrics())\n",
    "# print(tracker_refined.get_metrics())\n",
    "\n"
   ]
  },
  {
   "cell_type": "code",
   "execution_count": 113,
   "id": "04d130ca",
   "metadata": {},
   "outputs": [],
   "source": [
    "# idx = 66\n",
    "# scan_id = dataset.val_dataset.MAPPING_IDX_TO_SCAN_VAL_NAMES[idx]\n",
    "# mm_data = dataset.val_dataset[idx]\n",
    "# print(scan_id)"
   ]
  },
  {
   "cell_type": "code",
   "execution_count": 94,
   "id": "c361dc7e",
   "metadata": {},
   "outputs": [
    {
     "data": {
      "text/plain": [
       "MMData(\n",
       "    data = Data(coords=[123705, 3], grid_size=[1], id_scan=[1], mapping_index=[123705], mvfusion_input=[91072, 9, 10], origin_id=[123705], pos=[123705, 3], rgb=[123705, 3], x=[123705, 3], y=[123705])\n",
       "    image = ImageData(num_settings=1, num_views=207, num_points=123705, device=cpu)\n",
       ")"
      ]
     },
     "execution_count": 94,
     "metadata": {},
     "output_type": "execute_result"
    }
   ],
   "source": [
    "mm_data"
   ]
  },
  {
   "cell_type": "code",
   "execution_count": 95,
   "id": "70b9954b",
   "metadata": {},
   "outputs": [
    {
     "data": {
      "text/html": [
       "<iframe\n",
       "    scrolling=\"no\"\n",
       "    width=\"1020px\"\n",
       "    height=\"520\"\n",
       "    src=\"iframe_figures/figure_95.html\"\n",
       "    frameborder=\"0\"\n",
       "    allowfullscreen\n",
       "></iframe>\n"
      ]
     },
     "metadata": {},
     "output_type": "display_data"
    }
   ],
   "source": [
    "visualize_mm_data(mm_data, figsize=1000, pointsize=3, voxel=0.05, show_2d=False, back='m2f_pred_mask', front='x', class_names=CLASS_NAMES, class_colors=CLASS_COLORS, alpha=0.3)"
   ]
  },
  {
   "cell_type": "code",
   "execution_count": 16,
   "id": "67ab2cf1",
   "metadata": {},
   "outputs": [
    {
     "data": {
      "text/html": [
       "<iframe\n",
       "    scrolling=\"no\"\n",
       "    width=\"1020px\"\n",
       "    height=\"520\"\n",
       "    src=\"iframe_figures/figure_16.html\"\n",
       "    frameborder=\"0\"\n",
       "    allowfullscreen\n",
       "></iframe>\n"
      ]
     },
     "metadata": {},
     "output_type": "display_data"
    }
   ],
   "source": [
    "visualize_mm_data(mm_data, figsize=1000, pointsize=3, voxel=0.05, show_2d=False, back='m2f_pred_mask', front='x', class_names=CLASS_NAMES, class_colors=CLASS_COLORS, alpha=0.3)"
   ]
  },
  {
   "cell_type": "code",
   "execution_count": 114,
   "id": "8615b4a4",
   "metadata": {},
   "outputs": [],
   "source": [
    "# orig_data_p = osp.join(\"/scratch-shared/fsun/data/scannet/scans\", scan_id)\n",
    "\n",
    "\n",
    "# destination_dir = f\"/home/fsun/DeepViewAgg/notebooks/thesis_visualizations/{scan_id}\"\n",
    "# os.listdir(orig_data_p)\n",
    "\n",
    "# files = ['scene0207_00_vh_clean_2.ply',\n",
    "#  'scene0207_00_vh_clean_2.0.010000.segs.json',\n",
    "#  'scene0207_00.txt',\n",
    "#  'scene0207_00.aggregation.json',\n",
    "# ]\n",
    "\n",
    "# folders = [\n",
    "#  'color_resized',\n",
    "#  'label-filt-scannet20',\n",
    "#  'ViT_masks',\n",
    "#  'sens',\n",
    "# ]\n",
    "\n",
    "# masks = [\n",
    "#  'ViT_masks_refined/MVFusion_3D_small_6views',\n",
    "#  'ViT_masks_refined/Deepset_3D'\n",
    "# ]"
   ]
  },
  {
   "cell_type": "code",
   "execution_count": 115,
   "id": "8b0b92ee",
   "metadata": {},
   "outputs": [],
   "source": [
    "# import shutil\n",
    "# os.makedirs(destination_dir, exist_ok=True)\n",
    "\n",
    "# for f in files:\n",
    "#     shutil.copy(osp.join(orig_data_p, f), osp.join(destination_dir, f))\n",
    "    \n",
    "# for d in folders:    \n",
    "#     shutil.copytree(osp.join(orig_data_p, d), osp.join(destination_dir, d)) \n",
    "    \n",
    "# for m in masks:\n",
    "#     shutil.copytree(osp.join(orig_data_p, m), osp.join(destination_dir, m)) \n",
    "\n"
   ]
  },
  {
   "cell_type": "code",
   "execution_count": 99,
   "id": "90889a71",
   "metadata": {},
   "outputs": [],
   "source": [
    "CLASS_COLORS = [\n",
    "  (174.0, 199.0, 232.0),\n",
    "  (152.0, 223.0, 138.0),\n",
    "  (31.0, 119.0, 180.0),\n",
    "  (255.0, 187.0, 120.0),\n",
    "  (188.0, 189.0, 34.0),\n",
    "  (140.0, 86.0, 75.0),\n",
    "  (255.0, 152.0, 150.0),\n",
    "  (214.0, 39.0, 40.0),\n",
    "  (197.0, 176.0, 213.0),\n",
    "  (148.0, 103.0, 189.0),\n",
    "  (196.0, 156.0, 148.0),\n",
    "  (23.0, 190.0, 207.0),\n",
    "  (247.0, 182.0, 210.0),\n",
    "  (219.0, 219.0, 141.0),\n",
    "  (255.0, 127.0, 14.0),\n",
    "  (158.0, 218.0, 229.0),\n",
    "  (44.0, 160.0, 44.0),\n",
    "  (112.0, 128.0, 144.0),\n",
    "  (227.0, 119.0, 194.0),\n",
    "  (82.0, 84.0, 163.0),\n",
    "  (0, 0, 0)\n",
    "]\n",
    "\n",
    "CLASS_NAMES = [\n",
    "  'wall',\n",
    "  'floor',\n",
    "  'cabinet',\n",
    "  'bed',\n",
    "  'chair',\n",
    "  'sofa',\n",
    "  'table',\n",
    "  'door',\n",
    "  'window',\n",
    "  'bookshelf',\n",
    "  'picture',\n",
    "  'counter',\n",
    "  'desk',\n",
    "  'curtain',\n",
    "  'refrigerator',\n",
    "  'shower curtain',\n",
    "  'toilet',\n",
    "  'sink',\n",
    "  'bathtub',\n",
    "  'otherfurniture',\n",
    "  'ignored'\n",
    "]"
   ]
  },
  {
   "cell_type": "markdown",
   "id": "1b6cc94a",
   "metadata": {},
   "source": [
    "### Export ground-truth labels"
   ]
  },
  {
   "cell_type": "code",
   "execution_count": 100,
   "id": "3a74a6ae",
   "metadata": {},
   "outputs": [],
   "source": [
    "import json\n",
    "from PIL import Image\n",
    "import util\n",
    "import util_3d\n",
    "from plyfile import PlyData, PlyElement\n",
    "import shutil\n",
    "\n",
    "SCAN_ID = 'scene0207_00'\n",
    "SCANS_DIR = osp.join(\"/home/fsun/DeepViewAgg/notebooks/thesis_visualizations\")"
   ]
  },
  {
   "cell_type": "code",
   "execution_count": 101,
   "id": "d2f8ff41",
   "metadata": {},
   "outputs": [],
   "source": [
    "def read_aggregation(filename):\n",
    "    assert os.path.isfile(filename)\n",
    "    object_id_to_segs = {}\n",
    "    label_to_segs = {}\n",
    "    with open(filename) as f:\n",
    "        data = json.load(f)\n",
    "        num_objects = len(data['segGroups'])\n",
    "        for i in range(num_objects):\n",
    "            object_id = data['segGroups'][i]['objectId'] + 1 # instance ids should be 1-indexed\n",
    "            label = data['segGroups'][i]['label']\n",
    "            segs = data['segGroups'][i]['segments']\n",
    "            object_id_to_segs[object_id] = segs\n",
    "            if label in label_to_segs:\n",
    "                label_to_segs[label].extend(segs)\n",
    "            else:\n",
    "                label_to_segs[label] = segs\n",
    "    return object_id_to_segs, label_to_segs\n",
    "\n",
    "\n",
    "def read_segmentation(filename):\n",
    "    assert os.path.isfile(filename)\n",
    "    seg_to_verts = {}\n",
    "    with open(filename) as f:\n",
    "        data = json.load(f)\n",
    "        num_verts = len(data['segIndices'])\n",
    "        for i in range(num_verts):\n",
    "            seg_id = data['segIndices'][i]\n",
    "            if seg_id in seg_to_verts:\n",
    "                seg_to_verts[seg_id].append(i)\n",
    "            else:\n",
    "                seg_to_verts[seg_id] = [i]\n",
    "    return seg_to_verts, num_verts\n",
    "\n",
    "\n",
    "def export(mesh_file, agg_file, seg_file, label_map_file, type, output_file):\n",
    "    label_map = util.read_label_mapping(label_map_file, label_from='raw_category', label_to='nyu40id')\n",
    "    mesh_vertices = util_3d.read_mesh_vertices(mesh_file)\n",
    "    object_id_to_segs, label_to_segs = read_aggregation(agg_file)\n",
    "    seg_to_verts, num_verts = read_segmentation(seg_file)\n",
    "    label_ids = np.zeros(shape=(num_verts), dtype=np.uint32)     # 0: unannotated\n",
    "    for label, segs in label_to_segs.items():\n",
    "        label_id = label_map[label]\n",
    "        for seg in segs:\n",
    "            verts = seg_to_verts[seg]\n",
    "            label_ids[verts] = label_id\n",
    "    if type == 'label':\n",
    "        util_3d.export_ids(output_file, label_ids)\n",
    "    elif type == 'instance':\n",
    "        instance_ids = np.zeros(shape=(num_verts), dtype=np.uint32)  # 0: unannotated\n",
    "        for object_id, segs in object_id_to_segs.items():\n",
    "            for seg in segs:\n",
    "                verts = seg_to_verts[seg]\n",
    "                instance_ids[verts] = object_id\n",
    "        util_3d.export_instance_ids_for_eval(output_file, label_ids, instance_ids)\n",
    "    else:\n",
    "        raise\n",
    "\n",
    "\n",
    "mesh_file = os.path.join(SCANS_DIR, SCAN_ID, SCAN_ID + '_vh_clean_2.ply')\n",
    "agg_file = os.path.join(SCANS_DIR, SCAN_ID, SCAN_ID + '.aggregation.json')\n",
    "seg_file = os.path.join(SCANS_DIR, SCAN_ID, SCAN_ID + '_vh_clean_2.0.010000.segs.json')\n",
    "\n",
    "label_type = 'label' # 'label', 'instance'\n",
    "output_file = os.path.join(SCANS_DIR, SCAN_ID, SCAN_ID + '_gt_labels.txt')\n",
    "label_map_file = \"/scratch-shared/fsun/dvata/scannet-neucon-smallres-m2f/raw/metadata/scannetv2-labels.combined.tsv\"\n",
    "export(mesh_file, agg_file, seg_file, label_map_file, label_type, output_file)"
   ]
  },
  {
   "cell_type": "code",
   "execution_count": 102,
   "id": "91e130a8",
   "metadata": {},
   "outputs": [],
   "source": [
    "MODEL_NAME = \"MVFusion_3D_small_6views\"   # MVFusion_3D_small_6views, DeepSet_3D\n",
    "MASK_TYPE = \"ViT_masks\"\n",
    "\n",
    "DATAROOT = \"/scratch-shared/fsun/data/scannet/scans\"\n",
    "RESULTS_DIR = osp.join(\"/home/fsun/DeepViewAgg/notebooks/thesis_visualizations\", SCAN_ID)\n",
    "SEMANTIC_PRED_DIR = '/home/fsun/DeepViewAgg/notebooks/thesis_results/submission_labels'"
   ]
  },
  {
   "cell_type": "markdown",
   "id": "c27f6d13",
   "metadata": {},
   "source": [
    "# Export semantic mesh predictions as .ply"
   ]
  },
  {
   "cell_type": "code",
   "execution_count": 103,
   "id": "8970f6f5",
   "metadata": {},
   "outputs": [],
   "source": [
    "def save_semantic_mesh(pred_file, mesh_file, output_file):\n",
    "    if not output_file.endswith('.ply'):\n",
    "        util.print_error('output file must be a .ply file')\n",
    "    colors = util.create_color_palette()\n",
    "    num_colors = len(colors)\n",
    "    ids = util_3d.load_ids(pred_file)\n",
    "    with open(mesh_file, 'rb') as f:\n",
    "        plydata = PlyData.read(f)\n",
    "        num_verts = plydata['vertex'].count\n",
    "        if num_verts != len(ids):\n",
    "            util.print_error('#predicted labels = ' + str(len(ids)) + 'vs #mesh vertices = ' + str(num_verts))\n",
    "        # *_vh_clean_2.ply has colors already\n",
    "        for i in range(num_verts):\n",
    "            if ids[i] >= num_colors:\n",
    "                util.print_error('found predicted label ' + str(ids[i]) + ' not in nyu40 label set')\n",
    "            color = colors[ids[i]]\n",
    "            plydata['vertex']['red'][i] = color[0]\n",
    "            plydata['vertex']['green'][i] = color[1]\n",
    "            plydata['vertex']['blue'][i] = color[2]\n",
    "            \n",
    "    plydata.write(output_file)\n",
    "\n",
    "\n",
    "# Save predicted semantic mesh\n",
    "semantic_path = osp.join(SEMANTIC_PRED_DIR, \n",
    "                         MODEL_NAME, MASK_TYPE, f'{scan_id}.txt')\n",
    "mesh_path = osp.join(DATAROOT, scan_id, f'{scan_id}_vh_clean_2.ply')\n",
    "\n",
    "output_name = f'{scan_id}_{MODEL_NAME}_semantic_mesh_prediction.ply'\n",
    "output_path = osp.join(RESULTS_DIR, output_name)\n",
    "\n",
    "save_semantic_mesh(semantic_path,\n",
    "                   mesh_path,\n",
    "                   output_path)\n",
    "\n",
    "# Save baseline prediction (majority voted projection)\n",
    "semantic_path = osp.join(SEMANTIC_PRED_DIR, \n",
    "                         'majority_vote', MASK_TYPE, f'{scan_id}.txt')\n",
    "mesh_path = osp.join(DATAROOT, scan_id, f'{scan_id}_vh_clean_2.ply')\n",
    "\n",
    "output_name = f'{scan_id}_semantic_mesh_baseline_projection.ply'\n",
    "output_path = osp.join(RESULTS_DIR, output_name)\n",
    "\n",
    "save_semantic_mesh(semantic_path,\n",
    "                   mesh_path,\n",
    "                   output_path)\n",
    "\n",
    "\n",
    "\n",
    "### gt-labels are nyu40id, not scannet-20! Need to remap them for visualization\n",
    "# # GT semantic mesh\n",
    "# semantic_path = osp.join(RESULTS_DIR, SCAN_ID + '_gt_labels.txt')\n",
    "# mesh_path = osp.join(DATAROOT, scan_id, f'{scan_id}_vh_clean_2.ply')\n",
    "\n",
    "# output_name = f'{scan_id}_gt_semantic_mesh.ply'\n",
    "# output_path = osp.join(RESULTS_DIR, output_name)\n",
    "\n",
    "# save_semantic_mesh(semantic_path,\n",
    "#                    mesh_path,\n",
    "#                    output_path)\n",
    "\n",
    "# Copy semantic mesh to output folder\n",
    "# shutil.copyfile(mesh_path, osp.join(RESULTS_DIR, scene_id, f'{scene_id}_mesh.ply'))"
   ]
  },
  {
   "cell_type": "markdown",
   "id": "547be502",
   "metadata": {},
   "source": [
    "# Visualize 2D input and refined segmentation masks"
   ]
  },
  {
   "cell_type": "code",
   "execution_count": 104,
   "id": "04447182",
   "metadata": {},
   "outputs": [
    {
     "data": {
      "image/png": "[encoded data removed]",
      "text/plain": [
       "<Figure size 640x480 with 1 Axes>"
      ]
     },
     "metadata": {},
     "output_type": "display_data"
    }
   ],
   "source": [
    "mask_dir = osp.join(SCANS_DIR, SCAN_ID, MASK_TYPE)\n",
    "im_ids = os.listdir(mask_dir)\n",
    "im_ids = sorted(im_ids, key=lambda i: int(os.path.splitext(os.path.basename(i))[0]))\n",
    "im_paths = [osp.join(mask_dir, im_id) for im_id in im_ids]\n",
    "\n",
    "for im_id in im_ids:\n",
    "    im = osp.join(mask_dir, im_id)\n",
    "    im = Image.open(im)\n",
    "    \n",
    "    im = np.array(CLASS_COLORS)[np.asarray(im) - 1].astype(np.uint8)    # -1 label correction\n",
    "\n",
    "    plt.imshow(im)\n",
    "    plt.show()\n",
    "    break"
   ]
  },
  {
   "cell_type": "code",
   "execution_count": 105,
   "id": "2b61f56b",
   "metadata": {},
   "outputs": [
    {
     "name": "stdout",
     "output_type": "stream",
     "text": [
      "/home/fsun/DeepViewAgg/notebooks/thesis_visualizations/scene0207_00/scene0207_00_ViT_masks_MVFusion_3D_small_6views.gif\n"
     ]
    },
    {
     "data": {
      "application/json": {
       "ascii": false,
       "bar_format": null,
       "colour": null,
       "elapsed": 0.014651775360107422,
       "initial": 0,
       "n": 0,
       "ncols": null,
       "nrows": null,
       "postfix": null,
       "prefix": "",
       "rate": null,
       "total": 207,
       "unit": "it",
       "unit_divisor": 1000,
       "unit_scale": false
      },
      "application/vnd.jupyter.widget-view+json": {
       "model_id": "6071700377314dfbbed0887ea5b739f6",
       "version_major": 2,
       "version_minor": 0
      },
      "text/plain": [
       "  0%|          | 0/207 [00:00<?, ?it/s]"
      ]
     },
     "metadata": {},
     "output_type": "display_data"
    }
   ],
   "source": [
    "# Save sequence as gif\n",
    "save_dir = osp.join(SCANS_DIR, SCAN_ID)\n",
    "save_name = f\"{SCAN_ID}_{mask_type}_{MODEL_NAME}.gif\"\n",
    "print(osp.join(save_dir, save_name))\n",
    "with imageio.get_writer(osp.join(save_dir, save_name), mode='I') as writer:\n",
    "    for filename in Ctq(im_paths):\n",
    "        image = imageio.imread(filename) - 1   # label correction\n",
    "        image = np.array(CLASS_COLORS)[image].astype(np.uint8)\n",
    "        writer.append_data(image)"
   ]
  },
  {
   "cell_type": "code",
   "execution_count": 106,
   "id": "3a8d4e98",
   "metadata": {},
   "outputs": [
    {
     "data": {
      "image/png": "[encoded data removed]",
      "text/plain": [
       "<Figure size 640x480 with 1 Axes>"
      ]
     },
     "metadata": {},
     "output_type": "display_data"
    }
   ],
   "source": [
    "refined_mask_name = osp.join(f\"{MASK_TYPE}_refined\", MODEL_NAME)\n",
    "\n",
    "mask_dir = osp.join(SCANS_DIR, SCAN_ID, refined_mask_name)\n",
    "\n",
    "im_ids = os.listdir(mask_dir)\n",
    "im_ids = sorted(im_ids, key=lambda i: int(os.path.splitext(os.path.basename(i))[0]))\n",
    "im_paths = [osp.join(mask_dir, im_id) for im_id in im_ids]\n",
    "\n",
    "for im_id in im_ids:\n",
    "    im = osp.join(mask_dir, im_id)\n",
    "    im = Image.open(im)\n",
    "    im = np.array(CLASS_COLORS)[np.asarray(im)].astype(np.uint8)    # no label correction\n",
    "    \n",
    "    plt.imshow(im)\n",
    " \n",
    "    plt.show()\n",
    "    break\n"
   ]
  },
  {
   "cell_type": "code",
   "execution_count": 107,
   "id": "ebfde3ec",
   "metadata": {},
   "outputs": [
    {
     "data": {
      "application/json": {
       "ascii": false,
       "bar_format": null,
       "colour": null,
       "elapsed": 0.014012813568115234,
       "initial": 0,
       "n": 0,
       "ncols": null,
       "nrows": null,
       "postfix": null,
       "prefix": "",
       "rate": null,
       "total": 207,
       "unit": "it",
       "unit_divisor": 1000,
       "unit_scale": false
      },
      "application/vnd.jupyter.widget-view+json": {
       "model_id": "d2cb3da3fcce46d8b039f62b73c529b0",
       "version_major": 2,
       "version_minor": 0
      },
      "text/plain": [
       "  0%|          | 0/207 [00:00<?, ?it/s]"
      ]
     },
     "metadata": {},
     "output_type": "display_data"
    }
   ],
   "source": [
    "save_dir = osp.join(SCANS_DIR, SCAN_ID)\n",
    "save_name = f\"{SCAN_ID}_{mask_type}_{MODEL_NAME}.gif\"\n",
    "with imageio.get_writer(osp.join(save_dir, save_name), mode='I') as writer:\n",
    "    for filename in Ctq(im_paths):\n",
    "        image = imageio.imread(filename)\n",
    "        image = np.array(CLASS_COLORS)[image].astype(np.uint8)    # no label correction\n",
    "        writer.append_data(image)"
   ]
  },
  {
   "cell_type": "markdown",
   "id": "bf6423c6",
   "metadata": {},
   "source": [
    "# 2D/3D Evaluation"
   ]
  },
  {
   "cell_type": "code",
   "execution_count": null,
   "id": "5f3d2fcb",
   "metadata": {},
   "outputs": [],
   "source": []
  }
 ],
 "metadata": {
  "kernelspec": {
   "display_name": "pytorch3d",
   "language": "python",
   "name": "pytorch3d"
  },
  "language_info": {
   "codemirror_mode": {
    "name": "ipython",
    "version": 3
   },
   "file_extension": ".py",
   "mimetype": "text/x-python",
   "name": "python",
   "nbconvert_exporter": "python",
   "pygments_lexer": "ipython3",
   "version": "3.7.13"
  }
 },
 "nbformat": 4,
 "nbformat_minor": 5
}
