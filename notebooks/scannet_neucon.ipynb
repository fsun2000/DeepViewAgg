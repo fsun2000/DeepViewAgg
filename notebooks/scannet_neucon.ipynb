{
 "cells": [
  {
   "cell_type": "markdown",
   "metadata": {},
   "source": [
    "###### ScanNet\n",
    "\n",
    "This notebook lets you instantiate the **[ScanNet](http://www.scan-net.org/)** dataset from scratch and visualize **3D+2D room samples**.\n",
    "\n",
    "Note that you will need **at least 1.2T** available for the SanNet raw dataset and **at least 64G** for the processed files at **5cm voxel resolution** and **320x240 image resolution**. \n",
    "\n",
    "The ScanNet dataset is composed of **rooms** of video acquisitions of indoor scenes. Thes video streams were used to produce a point cloud and images.\n",
    "\n",
    "Each room is small enough to be loaded at once into a **64G RAM** memory. The `ScannetDatasetMM` class from `torch_points3d.datasets.segmentation.multimodal.scannet` deals with loading the room and part of the images of the associated video stream."
   ]
  },
  {
   "cell_type": "code",
   "execution_count": 1,
   "metadata": {},
   "outputs": [],
   "source": [
    "# Select you GPU\n",
    "I_GPU = 0"
   ]
  },
  {
   "cell_type": "code",
   "execution_count": 2,
   "metadata": {},
   "outputs": [
    {
     "name": "stdout",
     "output_type": "stream",
     "text": [
      "[pyKeOps]: Warning, no cuda detected. Switching to cpu only.\n"
     ]
    }
   ],
   "source": [
    "# Uncomment to use autoreload\n",
    "# %load_ext autoreload\n",
    "# %autoreload 2\n",
    "\n",
    "import os\n",
    "import os.path as osp\n",
    "import sys\n",
    "import torch\n",
    "import numpy as np\n",
    "from time import time\n",
    "from omegaconf import OmegaConf\n",
    "start = time()\n",
    "import warnings\n",
    "warnings.filterwarnings('ignore')\n",
    "\n",
    "# torch.cuda.set_device(I_GPU)\n",
    "DIR = os.path.dirname(os.getcwd())\n",
    "ROOT = os.path.join(DIR, \"..\")\n",
    "sys.path.insert(0, ROOT)\n",
    "sys.path.insert(0, DIR)\n",
    "\n",
    "from torch_points3d.utils.config import hydra_read\n",
    "from torch_geometric.data import Data\n",
    "from torch_points3d.core.multimodal.data import MMData, MMBatch\n",
    "from torch_points3d.visualization.multimodal_data import visualize_mm_data\n",
    "from torch_points3d.core.multimodal.image import SameSettingImageData, ImageData\n",
    "from torch_points3d.datasets.segmentation.multimodal.scannet import ScannetDatasetMM\n",
    "from torch_points3d.datasets.segmentation.scannet import CLASS_COLORS, CLASS_NAMES"
   ]
  },
  {
   "cell_type": "markdown",
   "metadata": {},
   "source": [
    "If `visualize_mm_data` does not throw any error but the visualization does not appear, you may need to change your plotly renderer below."
   ]
  },
  {
   "cell_type": "code",
   "execution_count": 3,
   "metadata": {},
   "outputs": [],
   "source": [
    "import plotly.io as pio\n",
    "\n",
    "#pio.renderers.default = 'jupyterlab'        # for local notebook\n",
    "pio.renderers.default = 'iframe_connected'  # for remote notebook. Other working (but seemingly slower) options are: 'sphinx_gallery' and 'iframe'"
   ]
  },
  {
   "cell_type": "markdown",
   "metadata": {},
   "source": [
    "## Dataset creation\n",
    "\n",
    "The following will instantiate the dataset. If the data is not found at `DATA_ROOT`, the folder structure will be created there and the raw dataset will be downloaded there. \n",
    "\n",
    "**Memory-friendly tip** : if you have already downloaded the dataset once and simply want to instantiate a new dataset with different preprocessing (*e.g* change 3D or 2D resolution, mapping parameterization, etc), I recommend you manually replicate the folder hierarchy of your already-existing dataset and create a symlink to its `raw/` directory to avoid downloading and storing (very) large files twice.\n",
    "\n",
    "You will find the config file ruling the dataset creation at `conf/data/segmentation/multimodal/scannet-sparse.yaml`. You may edit this file or create new configs inheriting from this one using Hydra and create the associated dataset by modifying `dataset_config` accordingly in the following cell."
   ]
  },
  {
   "cell_type": "code",
   "execution_count": 21,
   "metadata": {},
   "outputs": [
    {
     "data": {
      "text/plain": [
       "tensor([       0,   237360,   476621,   693707,   830476,   995832,  1169224,\n",
       "         1334944,  1512844,  1806655,  2091456,  2375699,  2562556,  2761027,\n",
       "         2960801,  3172207,  3371241,  3568056,  3645022,  3875694,  4070946,\n",
       "         4163753,  4254134,  4305515,  4485470,  4639399,  4756244,  4868077,\n",
       "         4966423,  5090995,  5215205,  5339296,  5506168,  5651818,  5822503,\n",
       "         5959315,  6174210,  6390464,  6442768,  6493979,  6544307,  6721398,\n",
       "         6893619,  7034218,  7106225,  7233104,  7349445,  7409883,  7469213,\n",
       "         7533596,  7695992,  7743701,  7793254,  7887569,  7975642,  8068467,\n",
       "         8157657,  8397011,  8625085,  8798837,  8943000,  9044783,  9138451,\n",
       "         9284483,  9490239,  9696449,  9934841, 10239237, 10508511, 10855833,\n",
       "        11263219, 11389604, 11575432, 11746086, 11980917, 12216694, 12636231,\n",
       "        13074796, 13427809, 13628871, 13959902, 14186667, 14295184, 14406801,\n",
       "        14498870, 14679798, 14758982, 14841610, 14923861, 15000881, 15084150,\n",
       "        15224366, 15397589, 15561605, 15933221, 16345732, 16754365, 16841811,\n",
       "        16920580, 17032047, 17387460, 17755933, 18114843, 18312017, 18538597,\n",
       "        18750094, 18856433, 18941892, 19026337, 19116295, 19281913, 19454047,\n",
       "        19624887, 19833669, 20037406, 20229359, 20339928, 20476063, 20543686,\n",
       "        20624858, 20721468, 20805081, 20942026, 21075081, 21186892, 21318189,\n",
       "        21431746, 21588044, 21784652, 21946245, 22046530, 22143463, 22344466,\n",
       "        22393330, 22438887, 22480639, 22656196, 22789533, 22982218, 23035292,\n",
       "        23076810, 23136881, 23272748, 23410334, 23535483, 23661664, 23735738,\n",
       "        23945987, 24072153, 24111682, 24149229, 24404227, 24677507, 24887815,\n",
       "        25091537, 25177728, 25242992, 25312159, 25371293, 25528007, 25710288,\n",
       "        25924237, 26176592, 26371676, 26550064, 26681319, 26789638, 26899090,\n",
       "        27030373, 27092421, 27285383, 27682325, 28034999, 28165179, 28231072,\n",
       "        28321340, 28483313, 28684260, 28811937, 28935040, 29027018, 29089872,\n",
       "        29151260, 29218892, 29311845, 29453187, 29627091, 29716887, 29798541,\n",
       "        29916546, 30084104, 30316557, 30555945, 30788522, 30844043, 30897684,\n",
       "        30960159, 31154366, 31356301, 31559183, 31706790, 31821630, 31950183,\n",
       "        32108230, 32273239, 32420021, 32518260, 32608070, 32783670, 32974462,\n",
       "        33162118, 33374020, 33553272, 33695602, 33841164, 33933088, 34109227,\n",
       "        34251160, 34401082, 34523793, 34688194, 34840244, 35008176, 35121332,\n",
       "        35199719, 35386298, 35577405, 35812435, 35891271, 36006821, 36141808,\n",
       "        36211703, 36521951, 36819577, 37052317, 37303138, 37558221, 37803183,\n",
       "        38029166, 38130173, 38229344, 38396704, 38696176, 39048653, 39378974,\n",
       "        39648503, 39844688, 40039048, 40206963, 40379565, 40468015, 40547228,\n",
       "        40671276, 40771562, 41056513, 41388078, 41527216, 41686691, 41820548,\n",
       "        41950499, 42061459, 42245887, 42504289, 42552365, 42596950, 42642386,\n",
       "        42689190, 42941916, 43142604, 43318642, 43575166, 43656635, 43707822,\n",
       "        44072633, 44450316, 44779289, 44820653, 44860127, 44992847, 45130977,\n",
       "        45353230, 45443006, 45534622, 45619165, 45741294, 45847344, 45957279,\n",
       "        45998606, 46046592, 46094588, 46228006, 46371782, 46528807, 46734372,\n",
       "        46965439, 47253578, 47559494, 47698794, 47845614, 48012469, 48178381,\n",
       "        48331422, 48499177, 48653054, 48801696, 48875246, 48952452, 49063397,\n",
       "        49118166, 49174769, 49207557, 49390586, 49540568])"
      ]
     },
     "execution_count": 21,
     "metadata": {},
     "output_type": "execute_result"
    }
   ],
   "source": [
    "# a = torch.load(\"/project/fsun/dvata/scannet-neucon-smallres/processed/val.pt\")\n",
    "a[1]['rgb']\n"
   ]
  },
  {
   "cell_type": "code",
   "execution_count": 4,
   "metadata": {},
   "outputs": [],
   "source": [
    "# Set your dataset root directory, where the data was/will be downloaded\n",
    "DATA_ROOT = '/project/fsun/dvata'\n",
    "\n",
    "dataset_config = 'segmentation/multimodal/Feng/scannet-neucon-smallres-partial'   \n",
    "models_config = 'segmentation/multimodal/sparseconv3d'    # model family\n",
    "model_name = 'Res16UNet34-L4-early'                       # specific model\n",
    "\n",
    "overrides = [\n",
    "    'task=segmentation',\n",
    "    f'data={dataset_config}',\n",
    "    f'models={models_config}',\n",
    "    f'model_name={model_name}',\n",
    "    f'data.dataroot={DATA_ROOT}',\n",
    "]\n",
    "\n",
    "cfg = hydra_read(overrides)\n"
   ]
  },
  {
   "cell_type": "code",
   "execution_count": 5,
   "metadata": {
    "scrolled": true
   },
   "outputs": [],
   "source": [
    "# print(OmegaConf.to_yaml(cfg))"
   ]
  },
  {
   "cell_type": "markdown",
   "metadata": {},
   "source": [
    "The dataset will now be created based on the parsed configuration. I recommend having **at least 1.2T** available for the SanNet raw dataset and **at least 64G** for the processed files at **5cm voxel resolution** and **320x240 image resolution**. \n",
    "\n",
    "As long as you do not change core dataset parameters, preprocessing should only be performed once for your dataset. It may take some time, **mostly depending on the 3D and 2D resolutions** you choose to work with (the larger the slower)."
   ]
  },
  {
   "cell_type": "code",
   "execution_count": 6,
   "metadata": {},
   "outputs": [
    {
     "name": "stdout",
     "output_type": "stream",
     "text": [
      "initialize train dataset\n",
      "initialize val dataset\n",
      "Time = 0.7 sec.\n"
     ]
    }
   ],
   "source": [
    "# Dataset instantiation\n",
    "start = time()\n",
    "dataset = ScannetDatasetMM(cfg.data)\n",
    "# print(dataset)\n",
    "print(f\"Time = {time() - start:0.1f} sec.\")"
   ]
  },
  {
   "cell_type": "markdown",
   "metadata": {},
   "source": [
    "To visualize the multimodal samples produced by the dataset, we need to remove some of the dataset transforms that affect points, images and mappings. The `sample_real_data` function will be used to get samples without breaking mappings consistency for visualization.\n",
    "\n",
    "At training and evaluation time, these transforms are used for data augmentation, dynamic size batching (see our [paper](https://arxiv.org/submit/4264152)), etc..."
   ]
  },
  {
   "cell_type": "code",
   "execution_count": 7,
   "metadata": {},
   "outputs": [],
   "source": [
    "from torch_geometric.transforms import *\n",
    "from torch_points3d.core.data_transform import *\n",
    "from torch_points3d.core.data_transform.multimodal.image import *\n",
    "from torch_points3d.datasets.base_dataset import BaseDataset\n",
    "from torch_points3d.datasets.base_dataset_multimodal import BaseDatasetMM\n",
    "\n",
    "# Transforms on 3D points that we need to exclude for visualization purposes\n",
    "augmentations_3d = [\n",
    "    ElasticDistortion, Random3AxisRotation, RandomNoise, RandomRotate, \n",
    "    RandomScaleAnisotropic, RandomSymmetry, ShiftVoxels]\n",
    "exclude_3d_viz = augmentations_3d + [AddFeatsByKeys, Center, GridSampling3D]\n",
    "\n",
    "# Transforms on 2D images and mappings that we need to exclude for visualization\n",
    "# purposes\n",
    "augmentations_2d = [JitterMappingFeatures, ColorJitter, RandomHorizontalFlip]\n",
    "exclude_2d_viz = augmentations_2d + [ToFloatImage, Normalize]\n",
    "\n",
    "\n",
    "def sample_real_data(tg_dataset, idx=0, exclude_3d=None, exclude_2d=None):\n",
    "    \"\"\"\n",
    "    Temporarily remove the 3D and 2D transforms affecting the point \n",
    "    positions and images from the dataset to better visualize points \n",
    "    and images relative positions.\n",
    "    \"\"\"    \n",
    "    # Remove some 3D transforms\n",
    "    transform_3d = tg_dataset.transform\n",
    "    if exclude_3d:\n",
    "        tg_dataset.transform = BaseDataset.remove_transform(transform_3d, exclude_3d)\n",
    "\n",
    "    # Remove some 2D transforms, if any\n",
    "    is_multimodal = hasattr(tg_dataset, 'transform_image')\n",
    "    if is_multimodal and exclude_2d:\n",
    "        transform_2d = tg_dataset.transform_image\n",
    "        tg_dataset.transform_image = BaseDatasetMM.remove_multimodal_transform(transform_2d, exclude_2d)\n",
    "    \n",
    "    # Get a sample from the dataset, with transforms excluded\n",
    "    out = tg_dataset[idx]\n",
    "    \n",
    "    # Restore transforms\n",
    "    tg_dataset.transform = transform_3d\n",
    "    if is_multimodal and exclude_2d:\n",
    "        tg_dataset.transform_image = transform_2d\n",
    "        \n",
    "    return out"
   ]
  },
  {
   "cell_type": "markdown",
   "metadata": {},
   "source": [
    "## Visualize a single multimodal sample\n",
    "\n",
    "We can now pick samples from the train, val and test datasets.\n",
    "\n",
    "Please refer to `torch_points3d/visualization/multimodal_data` for more details on visualization options."
   ]
  },
  {
   "cell_type": "code",
   "execution_count": 8,
   "metadata": {},
   "outputs": [
    {
     "name": "stdout",
     "output_type": "stream",
     "text": [
      "['/project/fsun/dvata/scannet-neucon-smallres-partial/raw/scans/scene0000_00/m2f_masks/364.png'\n",
      " '/project/fsun/dvata/scannet-neucon-smallres-partial/raw/scans/scene0000_00/m2f_masks/43.png'\n",
      " '/project/fsun/dvata/scannet-neucon-smallres-partial/raw/scans/scene0000_00/m2f_masks/341.png'\n",
      " '/project/fsun/dvata/scannet-neucon-smallres-partial/raw/scans/scene0000_00/m2f_masks/4098.png'\n",
      " '/project/fsun/dvata/scannet-neucon-smallres-partial/raw/scans/scene0000_00/m2f_masks/2143.png'\n",
      " '/project/fsun/dvata/scannet-neucon-smallres-partial/raw/scans/scene0000_00/m2f_masks/2748.png'\n",
      " '/project/fsun/dvata/scannet-neucon-smallres-partial/raw/scans/scene0000_00/m2f_masks/3748.png'\n",
      " '/project/fsun/dvata/scannet-neucon-smallres-partial/raw/scans/scene0000_00/m2f_masks/3566.png'\n",
      " '/project/fsun/dvata/scannet-neucon-smallres-partial/raw/scans/scene0000_00/m2f_masks/116.png'\n",
      " '/project/fsun/dvata/scannet-neucon-smallres-partial/raw/scans/scene0000_00/m2f_masks/1026.png'\n",
      " '/project/fsun/dvata/scannet-neucon-smallres-partial/raw/scans/scene0000_00/m2f_masks/1891.png'\n",
      " '/project/fsun/dvata/scannet-neucon-smallres-partial/raw/scans/scene0000_00/m2f_masks/605.png'\n",
      " '/project/fsun/dvata/scannet-neucon-smallres-partial/raw/scans/scene0000_00/m2f_masks/1372.png'\n",
      " '/project/fsun/dvata/scannet-neucon-smallres-partial/raw/scans/scene0000_00/m2f_masks/4662.png'\n",
      " '/project/fsun/dvata/scannet-neucon-smallres-partial/raw/scans/scene0000_00/m2f_masks/4132.png'\n",
      " '/project/fsun/dvata/scannet-neucon-smallres-partial/raw/scans/scene0000_00/m2f_masks/5241.png'\n",
      " '/project/fsun/dvata/scannet-neucon-smallres-partial/raw/scans/scene0000_00/m2f_masks/953.png'\n",
      " '/project/fsun/dvata/scannet-neucon-smallres-partial/raw/scans/scene0000_00/m2f_masks/328.png'\n",
      " '/project/fsun/dvata/scannet-neucon-smallres-partial/raw/scans/scene0000_00/m2f_masks/815.png'\n",
      " '/project/fsun/dvata/scannet-neucon-smallres-partial/raw/scans/scene0000_00/m2f_masks/86.png'\n",
      " '/project/fsun/dvata/scannet-neucon-smallres-partial/raw/scans/scene0000_00/m2f_masks/2966.png'\n",
      " '/project/fsun/dvata/scannet-neucon-smallres-partial/raw/scans/scene0000_00/m2f_masks/1399.png'\n",
      " '/project/fsun/dvata/scannet-neucon-smallres-partial/raw/scans/scene0000_00/m2f_masks/4160.png'\n",
      " '/project/fsun/dvata/scannet-neucon-smallres-partial/raw/scans/scene0000_00/m2f_masks/681.png'\n",
      " '/project/fsun/dvata/scannet-neucon-smallres-partial/raw/scans/scene0000_00/m2f_masks/5377.png'\n",
      " '/project/fsun/dvata/scannet-neucon-smallres-partial/raw/scans/scene0000_00/m2f_masks/1882.png'\n",
      " '/project/fsun/dvata/scannet-neucon-smallres-partial/raw/scans/scene0000_00/m2f_masks/3228.png'\n",
      " '/project/fsun/dvata/scannet-neucon-smallres-partial/raw/scans/scene0000_00/m2f_masks/227.png'\n",
      " '/project/fsun/dvata/scannet-neucon-smallres-partial/raw/scans/scene0000_00/m2f_masks/1697.png'\n",
      " '/project/fsun/dvata/scannet-neucon-smallres-partial/raw/scans/scene0000_00/m2f_masks/3898.png'\n",
      " '/project/fsun/dvata/scannet-neucon-smallres-partial/raw/scans/scene0000_00/m2f_masks/879.png'\n",
      " '/project/fsun/dvata/scannet-neucon-smallres-partial/raw/scans/scene0000_00/m2f_masks/760.png'\n",
      " '/project/fsun/dvata/scannet-neucon-smallres-partial/raw/scans/scene0000_00/m2f_masks/77.png'\n",
      " '/project/fsun/dvata/scannet-neucon-smallres-partial/raw/scans/scene0000_00/m2f_masks/1164.png'\n",
      " '/project/fsun/dvata/scannet-neucon-smallres-partial/raw/scans/scene0000_00/m2f_masks/1550.png'\n",
      " '/project/fsun/dvata/scannet-neucon-smallres-partial/raw/scans/scene0000_00/m2f_masks/4475.png'\n",
      " '/project/fsun/dvata/scannet-neucon-smallres-partial/raw/scans/scene0000_00/m2f_masks/2114.png'\n",
      " '/project/fsun/dvata/scannet-neucon-smallres-partial/raw/scans/scene0000_00/m2f_masks/2958.png'\n",
      " '/project/fsun/dvata/scannet-neucon-smallres-partial/raw/scans/scene0000_00/m2f_masks/3762.png'\n",
      " '/project/fsun/dvata/scannet-neucon-smallres-partial/raw/scans/scene0000_00/m2f_masks/278.png'\n",
      " '/project/fsun/dvata/scannet-neucon-smallres-partial/raw/scans/scene0000_00/m2f_masks/864.png'\n",
      " '/project/fsun/dvata/scannet-neucon-smallres-partial/raw/scans/scene0000_00/m2f_masks/700.png'\n",
      " '/project/fsun/dvata/scannet-neucon-smallres-partial/raw/scans/scene0000_00/m2f_masks/216.png'\n",
      " '/project/fsun/dvata/scannet-neucon-smallres-partial/raw/scans/scene0000_00/m2f_masks/3605.png'\n",
      " '/project/fsun/dvata/scannet-neucon-smallres-partial/raw/scans/scene0000_00/m2f_masks/4371.png'\n",
      " '/project/fsun/dvata/scannet-neucon-smallres-partial/raw/scans/scene0000_00/m2f_masks/5466.png'\n",
      " '/project/fsun/dvata/scannet-neucon-smallres-partial/raw/scans/scene0000_00/m2f_masks/5087.png'\n",
      " '/project/fsun/dvata/scannet-neucon-smallres-partial/raw/scans/scene0000_00/m2f_masks/5139.png'\n",
      " '/project/fsun/dvata/scannet-neucon-smallres-partial/raw/scans/scene0000_00/m2f_masks/245.png'\n",
      " '/project/fsun/dvata/scannet-neucon-smallres-partial/raw/scans/scene0000_00/m2f_masks/3541.png'\n",
      " '/project/fsun/dvata/scannet-neucon-smallres-partial/raw/scans/scene0000_00/m2f_masks/5513.png'\n",
      " '/project/fsun/dvata/scannet-neucon-smallres-partial/raw/scans/scene0000_00/m2f_masks/563.png'\n",
      " '/project/fsun/dvata/scannet-neucon-smallres-partial/raw/scans/scene0000_00/m2f_masks/2789.png'\n",
      " '/project/fsun/dvata/scannet-neucon-smallres-partial/raw/scans/scene0000_00/m2f_masks/4837.png'\n",
      " '/project/fsun/dvata/scannet-neucon-smallres-partial/raw/scans/scene0000_00/m2f_masks/1152.png'\n",
      " '/project/fsun/dvata/scannet-neucon-smallres-partial/raw/scans/scene0000_00/m2f_masks/4123.png'\n",
      " '/project/fsun/dvata/scannet-neucon-smallres-partial/raw/scans/scene0000_00/m2f_masks/3043.png'\n",
      " '/project/fsun/dvata/scannet-neucon-smallres-partial/raw/scans/scene0000_00/m2f_masks/2905.png'\n",
      " '/project/fsun/dvata/scannet-neucon-smallres-partial/raw/scans/scene0000_00/m2f_masks/349.png'\n",
      " '/project/fsun/dvata/scannet-neucon-smallres-partial/raw/scans/scene0000_00/m2f_masks/3557.png'\n",
      " '/project/fsun/dvata/scannet-neucon-smallres-partial/raw/scans/scene0000_00/m2f_masks/3364.png'\n",
      " '/project/fsun/dvata/scannet-neucon-smallres-partial/raw/scans/scene0000_00/m2f_masks/869.png'\n",
      " '/project/fsun/dvata/scannet-neucon-smallres-partial/raw/scans/scene0000_00/m2f_masks/3091.png'\n",
      " '/project/fsun/dvata/scannet-neucon-smallres-partial/raw/scans/scene0000_00/m2f_masks/5279.png'\n",
      " '/project/fsun/dvata/scannet-neucon-smallres-partial/raw/scans/scene0000_00/m2f_masks/5444.png'\n",
      " '/project/fsun/dvata/scannet-neucon-smallres-partial/raw/scans/scene0000_00/m2f_masks/5460.png'\n",
      " '/project/fsun/dvata/scannet-neucon-smallres-partial/raw/scans/scene0000_00/m2f_masks/2628.png'\n",
      " '/project/fsun/dvata/scannet-neucon-smallres-partial/raw/scans/scene0000_00/m2f_masks/431.png'\n",
      " '/project/fsun/dvata/scannet-neucon-smallres-partial/raw/scans/scene0000_00/m2f_masks/1331.png'\n",
      " '/project/fsun/dvata/scannet-neucon-smallres-partial/raw/scans/scene0000_00/m2f_masks/2523.png'\n",
      " '/project/fsun/dvata/scannet-neucon-smallres-partial/raw/scans/scene0000_00/m2f_masks/3360.png'\n",
      " '/project/fsun/dvata/scannet-neucon-smallres-partial/raw/scans/scene0000_00/m2f_masks/417.png'\n",
      " '/project/fsun/dvata/scannet-neucon-smallres-partial/raw/scans/scene0000_00/m2f_masks/1218.png'\n",
      " '/project/fsun/dvata/scannet-neucon-smallres-partial/raw/scans/scene0000_00/m2f_masks/5431.png'\n",
      " '/project/fsun/dvata/scannet-neucon-smallres-partial/raw/scans/scene0000_00/m2f_masks/5308.png'\n",
      " '/project/fsun/dvata/scannet-neucon-smallres-partial/raw/scans/scene0000_00/m2f_masks/5389.png'\n",
      " '/project/fsun/dvata/scannet-neucon-smallres-partial/raw/scans/scene0000_00/m2f_masks/4896.png'\n",
      " '/project/fsun/dvata/scannet-neucon-smallres-partial/raw/scans/scene0000_00/m2f_masks/1623.png'\n",
      " '/project/fsun/dvata/scannet-neucon-smallres-partial/raw/scans/scene0000_00/m2f_masks/308.png'\n",
      " '/project/fsun/dvata/scannet-neucon-smallres-partial/raw/scans/scene0000_00/m2f_masks/3017.png'\n",
      " '/project/fsun/dvata/scannet-neucon-smallres-partial/raw/scans/scene0000_00/m2f_masks/3754.png'\n",
      " '/project/fsun/dvata/scannet-neucon-smallres-partial/raw/scans/scene0000_00/m2f_masks/3253.png'\n",
      " '/project/fsun/dvata/scannet-neucon-smallres-partial/raw/scans/scene0000_00/m2f_masks/961.png'\n",
      " '/project/fsun/dvata/scannet-neucon-smallres-partial/raw/scans/scene0000_00/m2f_masks/2777.png'\n",
      " '/project/fsun/dvata/scannet-neucon-smallres-partial/raw/scans/scene0000_00/m2f_masks/2833.png'\n",
      " '/project/fsun/dvata/scannet-neucon-smallres-partial/raw/scans/scene0000_00/m2f_masks/1067.png'\n",
      " '/project/fsun/dvata/scannet-neucon-smallres-partial/raw/scans/scene0000_00/m2f_masks/2550.png'\n",
      " '/project/fsun/dvata/scannet-neucon-smallres-partial/raw/scans/scene0000_00/m2f_masks/628.png'\n",
      " '/project/fsun/dvata/scannet-neucon-smallres-partial/raw/scans/scene0000_00/m2f_masks/4176.png'\n",
      " '/project/fsun/dvata/scannet-neucon-smallres-partial/raw/scans/scene0000_00/m2f_masks/1951.png'\n",
      " '/project/fsun/dvata/scannet-neucon-smallres-partial/raw/scans/scene0000_00/m2f_masks/1012.png'\n",
      " '/project/fsun/dvata/scannet-neucon-smallres-partial/raw/scans/scene0000_00/m2f_masks/1280.png'\n",
      " '/project/fsun/dvata/scannet-neucon-smallres-partial/raw/scans/scene0000_00/m2f_masks/4563.png'\n",
      " '/project/fsun/dvata/scannet-neucon-smallres-partial/raw/scans/scene0000_00/m2f_masks/2850.png'\n",
      " '/project/fsun/dvata/scannet-neucon-smallres-partial/raw/scans/scene0000_00/m2f_masks/1020.png'\n",
      " '/project/fsun/dvata/scannet-neucon-smallres-partial/raw/scans/scene0000_00/m2f_masks/3546.png'\n",
      " '/project/fsun/dvata/scannet-neucon-smallres-partial/raw/scans/scene0000_00/m2f_masks/2578.png'\n",
      " '/project/fsun/dvata/scannet-neucon-smallres-partial/raw/scans/scene0000_00/m2f_masks/865.png'\n",
      " '/project/fsun/dvata/scannet-neucon-smallres-partial/raw/scans/scene0000_00/m2f_masks/5318.png'\n",
      " '/project/fsun/dvata/scannet-neucon-smallres-partial/raw/scans/scene0000_00/m2f_masks/4755.png']\n"
     ]
    }
   ],
   "source": [
    "# exact splatting\n",
    "i_room = 0\n",
    "\n",
    "# Pick a room in the Train set\n",
    "mm_data = sample_real_data(dataset.train_dataset, idx=i_room, exclude_3d=exclude_3d_viz, exclude_2d=exclude_2d_viz)\n",
    "\n",
    "# Pick a room in the Val set\n",
    "# mm_data = sample_real_data(dataset.val_dataset, idx=i_room, exclude_3d=exclude_3d_viz, exclude_2d=exclude_2d_viz)\n",
    "\n",
    "# Pick a room in the Test set\n",
    "# mm_data = sample_real_data(dataset.test_dataset[0], idx=i_room, exclude_3d=exclude_3d_viz, exclude_2d=exclude_2d_viz)"
   ]
  },
  {
   "cell_type": "code",
   "execution_count": 9,
   "metadata": {},
   "outputs": [],
   "source": [
    "# visualize_mm_data(mm_data, class_names=CLASS_NAMES, class_colors=CLASS_COLORS, front='y', figsize=1000, pointsize=3, voxel=0.05, show_2d=False, alpha=0.3)"
   ]
  },
  {
   "cell_type": "code",
   "execution_count": 10,
   "metadata": {},
   "outputs": [
    {
     "data": {
      "text/plain": [
       "tensor([[[[ 13,  64,  63,  ...,  62,  53,   8],\n",
       "          [ 24, 213, 228,  ..., 194, 173,  18],\n",
       "          [ 13, 187, 230,  ..., 198, 174,  20],\n",
       "          ...,\n",
       "          [  1, 116, 158,  ..., 195, 141,   1],\n",
       "          [  1, 104, 140,  ..., 178, 135,   4],\n",
       "          [  4,  13,  14,  ...,  24,  35,   4]],\n",
       "\n",
       "         [[ 10,  66,  67,  ...,  59,  51,  10],\n",
       "          [ 26, 222, 239,  ..., 192, 172,  21],\n",
       "          [ 15, 198, 243,  ..., 187, 169,  21],\n",
       "          ...,\n",
       "          [  0, 116, 168,  ..., 165, 122,   0],\n",
       "          [  2, 110, 151,  ..., 151, 117,   2],\n",
       "          [  2,  13,  16,  ...,  16,  28,   4]],\n",
       "\n",
       "         [[ 10,  66,  68,  ...,  53,  49,  14],\n",
       "          [ 25, 221, 240,  ..., 160, 149,  15],\n",
       "          [ 16, 199, 245,  ..., 160, 151,  24],\n",
       "          ...,\n",
       "          [  1, 122, 177,  ..., 134, 103,   0],\n",
       "          [  1, 112, 158,  ..., 129, 104,   4],\n",
       "          [  1,  12,  18,  ...,  14,  25,   7]]],\n",
       "\n",
       "\n",
       "        [[[  6,  43,  47,  ...,  35,  30,  12],\n",
       "          [ 23, 136, 155,  ..., 116, 103,  15],\n",
       "          [ 10, 124, 158,  ..., 121, 109,  14],\n",
       "          ...,\n",
       "          [  0, 121, 168,  ...,  22,  15,   1],\n",
       "          [  4, 106, 148,  ...,  20,  16,   1],\n",
       "          [  3,  13,  19,  ...,   2,   4,   0]],\n",
       "\n",
       "         [[  8,  32,  32,  ...,  29,  27,   4],\n",
       "          [ 13, 102, 109,  ...,  92,  83,  12],\n",
       "          [  8,  96, 112,  ...,  87,  81,  12],\n",
       "          ...,\n",
       "          [  0, 113, 154,  ...,  21,  15,   1],\n",
       "          [  0,  98, 134,  ...,  19,  15,   1],\n",
       "          [  4,  12,  14,  ...,   2,   3,   0]],\n",
       "\n",
       "         [[ 13,  25,  24,  ...,  23,  22,   6],\n",
       "          [ 10,  75,  66,  ...,  50,  52,  12],\n",
       "          [  8,  69,  62,  ...,  47,  57,  19],\n",
       "          ...,\n",
       "          [  0, 103, 135,  ...,  25,  18,   4],\n",
       "          [  1,  93, 122,  ...,  25,  21,   5],\n",
       "          [  2,  11,  12,  ...,   5,   7,   3]]],\n",
       "\n",
       "\n",
       "        [[[ 10,  59,  53,  ...,  47,  38,   7],\n",
       "          [ 28, 189, 197,  ..., 148, 128,  17],\n",
       "          [ 15, 171, 204,  ..., 139, 118,  15],\n",
       "          ...,\n",
       "          [  0,  48,  61,  ..., 215, 154,   0],\n",
       "          [  2,  47,  56,  ..., 192, 146,   2],\n",
       "          [  3,   7,   7,  ...,  23,  36,   5]],\n",
       "\n",
       "         [[  7,  41,  42,  ...,  46,  39,   7],\n",
       "          [ 16, 134, 141,  ..., 146, 126,  14],\n",
       "          [ 10, 122, 146,  ..., 138, 116,  12],\n",
       "          ...,\n",
       "          [  0,  51,  69,  ..., 199, 145,   0],\n",
       "          [  2,  45,  62,  ..., 180, 141,   1],\n",
       "          [  4,   6,   7,  ...,  19,  34,   2]],\n",
       "\n",
       "         [[ 12,  29,  33,  ...,  40,  34,  10],\n",
       "          [ 18,  79,  73,  ..., 111, 107,  13],\n",
       "          [ 19,  62,  60,  ...,  92,  93,  11],\n",
       "          ...,\n",
       "          [  0,  62,  85,  ..., 162, 126,   0],\n",
       "          [  4,  58,  79,  ..., 147, 121,   4],\n",
       "          [  2,  10,  14,  ...,  17,  33,  13]]],\n",
       "\n",
       "\n",
       "        [[[ 11,  63,  63,  ...,  47,  45,   8],\n",
       "          [ 26, 210, 229,  ..., 153, 145,  15],\n",
       "          [ 14, 189, 234,  ..., 163, 152,  23],\n",
       "          ...,\n",
       "          [  3,  63,  88,  ...,  37,  28,   5],\n",
       "          [  7,  59,  82,  ...,  35,  31,   4],\n",
       "          [  0,  11,  13,  ...,   5,  10,   3]],\n",
       "\n",
       "         [[  9,  62,  64,  ...,  49,  46,   7],\n",
       "          [ 25, 213, 231,  ..., 161, 151,  19],\n",
       "          [ 14, 191, 232,  ..., 152, 143,  16],\n",
       "          ...,\n",
       "          [  0,  35,  43,  ...,  30,  17,   1],\n",
       "          [  1,  32,  42,  ...,  27,  21,   2],\n",
       "          [  3,   5,   5,  ...,   4,   6,   3]],\n",
       "\n",
       "         [[ 12,  63,  61,  ...,  43,  41,   5],\n",
       "          [ 28, 188, 201,  ..., 140, 138,  16],\n",
       "          [ 16, 164, 198,  ..., 134, 135,  18],\n",
       "          ...,\n",
       "          [  3,  24,  24,  ...,  73,  47,   4],\n",
       "          [  4,  29,  34,  ...,  61,  46,   4],\n",
       "          [  1,   3,   4,  ...,  17,  20,   6]]],\n",
       "\n",
       "\n",
       "        [[[  4,   7,   5,  ...,  43,  41,   9],\n",
       "          [  4,  16,  16,  ..., 141, 131,  13],\n",
       "          [  1,   9,  12,  ..., 151, 137,  17],\n",
       "          ...,\n",
       "          [  0,  12,  14,  ..., 143, 101,   0],\n",
       "          [  0,  10,  12,  ..., 127,  96,   3],\n",
       "          [  0,   1,   1,  ...,  16,  25,   4]],\n",
       "\n",
       "         [[  0,   5,   6,  ...,  47,  43,   8],\n",
       "          [  2,  16,  18,  ..., 159, 145,  21],\n",
       "          [  1,  11,  17,  ..., 155, 139,  17],\n",
       "          ...,\n",
       "          [  1,  16,  19,  ..., 135, 100,   2],\n",
       "          [  3,  14,  17,  ..., 121,  93,   3],\n",
       "          [  1,   4,   4,  ...,  13,  23,   4]],\n",
       "\n",
       "         [[  1,   6,   5,  ...,  44,  40,   7],\n",
       "          [  3,  16,  17,  ..., 150, 138,  16],\n",
       "          [  1,  10,  15,  ..., 152, 136,  15],\n",
       "          ...,\n",
       "          [  0,  12,  15,  ..., 130,  96,   1],\n",
       "          [  1,  13,  15,  ..., 120,  91,   1],\n",
       "          [  1,   3,   3,  ...,  13,  23,   4]]]], dtype=torch.uint8)"
      ]
     },
     "execution_count": 10,
     "metadata": {},
     "output_type": "execute_result"
    }
   ],
   "source": [
    "mm_data.modalities['image'][0].x"
   ]
  },
  {
   "cell_type": "code",
   "execution_count": null,
   "metadata": {},
   "outputs": [],
   "source": []
  },
  {
   "cell_type": "code",
   "execution_count": null,
   "metadata": {},
   "outputs": [],
   "source": []
  },
  {
   "cell_type": "markdown",
   "metadata": {},
   "source": [
    "### Visualization of only seen points"
   ]
  },
  {
   "cell_type": "code",
   "execution_count": 9,
   "metadata": {},
   "outputs": [],
   "source": [
    "# idx mapping from each pixel to point\n",
    "# NOTE: each point is contained multiple times if it has multiple correspondences\n",
    "im_data = mm_data.modalities['image']\n",
    "\n",
    "dense_idx_list = [\n",
    "            torch.arange(im.num_points, device=im_data.device).repeat_interleave(\n",
    "                im.view_csr_indexing[1:] - im.view_csr_indexing[:-1])\n",
    "            for im in im_data]\n",
    "dense_idx_list[0]\n",
    "\n",
    "# take subset of only seen points without re-indexing the same point\n",
    "seen_mm_data = mm_data[dense_idx_list[0].unique()]\n",
    "\n",
    "del im_data, mm_data"
   ]
  },
  {
   "cell_type": "code",
   "execution_count": null,
   "metadata": {},
   "outputs": [],
   "source": []
  },
  {
   "cell_type": "code",
   "execution_count": 12,
   "metadata": {},
   "outputs": [
    {
     "name": "stdout",
     "output_type": "stream",
     "text": [
      "MMData(\n",
      "    data = Data(id_scan=[1], linearity=[17483], mapping_index=[17483], norm=[17483, 3], origin_id=[17483], planarity=[17483], pos=[17483, 3], pos_z=[17483], rgb=[17483, 3], scattering=[17483], y=[17483])\n",
      "    image = ImageData(num_settings=1, num_views=5, num_points=17483, m2f_pred_mask=torch.Size([5, 1, 240, 320]), device=cpu)\n",
      ")\n"
     ]
    },
    {
     "data": {
      "text/html": [
       "<iframe\n",
       "    scrolling=\"no\"\n",
       "    width=\"1020px\"\n",
       "    height=\"520\"\n",
       "    src=\"iframe_figures/figure_12.html\"\n",
       "    frameborder=\"0\"\n",
       "    allowfullscreen\n",
       "></iframe>\n"
      ]
     },
     "metadata": {},
     "output_type": "display_data"
    }
   ],
   "source": [
    "print(seen_mm_data)\n",
    "\n",
    "visualize_mm_data(seen_mm_data, class_names=CLASS_NAMES, class_colors=CLASS_COLORS, front='y', figsize=1000, pointsize=3, voxel=0.05, show_2d=False, alpha=0.3)"
   ]
  },
  {
   "cell_type": "markdown",
   "metadata": {},
   "source": [
    "# Process MMData to compatible input for MVFusion model\n",
    "\n",
    "#### Step by step process:\n",
    "1. ~Take the MMData object from the dataloader~\n",
    "2. ~Find out how the mappings are stored and accessed. Hint: check 'SelectMappingFromPointId' and 'PickImagesFromMemoryCredit'~\n",
    "3. Select 9 random views for each 3d point, while maximizing differences between camera positions. I have chosen to not use extrinsics as I hypothesize that there already will be large differences in poses when camera position is different.\n",
    "4. Get M2F labels for each view\n",
    "5. Add the missing features to each viewing condition vector\n",
    "6. Input the prost-processed sample to MVFusion model\n",
    "\n",
    "\n",
    "Random thoughts:\n",
    "- Adding noise to viewing conditions \n",
    "- 3. has to be vectorized (not for looping through n_points)\n"
   ]
  },
  {
   "cell_type": "code",
   "execution_count": 10,
   "metadata": {},
   "outputs": [
    {
     "name": "stdout",
     "output_type": "stream",
     "text": [
      "SameSettingImageData(num_views=100, num_points=64888, m2f_pred_mask=torch.Size([100, 1, 240, 320]), device=cpu)\n",
      "dict_keys(['_ref_size', '_proj_upscale', '_rollings', '_downscale', '_crop_size', '_crop_offsets', '_x', '_mappings', '_mask', 'path', 'pos', 'opk', 'fx', 'fy', 'mx', 'my', 'xi', 'k1', 'k2', 'gamma1', 'gamma2', 'u0', 'v0', 'extrinsic', 'visibility', 'm2f_pred_mask', 'm2f_pred_mask_path'])\n",
      "tensor([[-2.1312, -0.9857,  1.3165],\n",
      "        [-1.8866, -0.6650,  1.2376],\n",
      "        [-1.5644, -1.0577,  1.3521],\n",
      "        [ 2.1509, -0.6062,  1.2494],\n",
      "        [-0.5664, -0.5263,  1.2969],\n",
      "        [-2.2808, -0.0989,  1.4455],\n",
      "        [ 1.3209, -0.6113,  1.2768],\n",
      "        [-1.2930, -0.2358,  1.3766],\n",
      "        [-1.7464, -0.7069,  1.4956],\n",
      "        [ 0.4178, -0.4069,  1.2682],\n",
      "        [ 1.4366, -0.6533,  1.2904],\n",
      "        [-1.2774, -0.7161,  1.3763],\n",
      "        [ 0.5294, -0.3331,  1.3684],\n",
      "        [ 1.7830,  2.2212,  1.3499],\n",
      "        [ 1.5115, -0.2909,  1.2593],\n",
      "        [ 2.1264, -0.0098,  1.3579],\n",
      "        [ 0.5762, -0.5673,  1.3033],\n",
      "        [-1.2817, -1.1939,  1.3523],\n",
      "        [-2.0432,  0.2104,  1.3818],\n",
      "        [-1.7759, -0.6067,  1.3659],\n",
      "        [-1.8511,  1.8500,  1.3233],\n",
      "        [ 0.5692, -0.5266,  1.3180],\n",
      "        [ 0.9515, -0.3645,  1.2611],\n",
      "        [-1.9183, -0.9315,  1.3318],\n",
      "        [ 0.4165, -0.5641,  1.2969],\n",
      "        [ 1.3239, -0.6605,  1.2818],\n",
      "        [-1.9477,  2.1794,  1.2593],\n",
      "        [-1.4276, -1.1174,  1.3074],\n",
      "        [ 0.9731, -0.2363,  1.3524],\n",
      "        [ 2.1229, -1.4673,  1.2700],\n",
      "        [-0.9324, -0.5689,  1.5368],\n",
      "        [-1.8701, -0.1293,  1.3249],\n",
      "        [-1.8763, -0.5553,  1.3536],\n",
      "        [ 0.0888, -0.6021,  1.3523],\n",
      "        [ 0.8507, -0.2510,  1.3100],\n",
      "        [ 1.6172,  1.0280,  1.3326],\n",
      "        [-0.3119, -0.6654,  1.3419],\n",
      "        [-1.8872,  1.7527,  1.3233],\n",
      "        [ 1.5066, -0.7083,  1.2765],\n",
      "        [-0.7857, -1.7752,  1.2995],\n",
      "        [-1.2086, -0.3779,  1.4627],\n",
      "        [-1.7844, -0.6118,  1.3088],\n",
      "        [-1.6578, -1.0101,  1.2955],\n",
      "        [-0.5557, -0.2757,  1.4226],\n",
      "        [ 1.0711,  0.2606,  1.4731],\n",
      "        [-0.6803, -0.1157,  1.3241],\n",
      "        [ 2.0310,  0.4956,  1.2908],\n",
      "        [ 2.0886,  0.2478,  1.3002],\n",
      "        [-1.2076, -1.3936,  1.3124],\n",
      "        [-1.8679, -0.2739,  1.3512],\n",
      "        [-1.3345, -0.4447,  1.2871],\n",
      "        [-1.3459, -0.9618,  1.3046],\n",
      "        [-1.7979,  0.2562,  1.5307],\n",
      "        [ 1.8212,  1.8960,  1.2784],\n",
      "        [-0.0279, -0.6083,  1.3395],\n",
      "        [ 1.7402, -0.3797,  1.2520],\n",
      "        [-1.6002,  2.4147,  1.2717],\n",
      "        [-2.1928,  1.0821,  1.3321],\n",
      "        [-1.7550, -0.9550,  1.3201],\n",
      "        [-1.5162, -0.2464,  1.3658],\n",
      "        [-1.8812,  0.9958,  1.2596],\n",
      "        [-1.1130, -0.4620,  1.4996],\n",
      "        [-1.7658,  2.4843,  1.2079],\n",
      "        [ 1.7473, -0.3479,  1.3212],\n",
      "        [-0.3829, -0.2384,  1.2995],\n",
      "        [-0.5798, -0.1557,  1.3155],\n",
      "        [-1.6967, -0.4157,  1.3331],\n",
      "        [-2.7210, -1.2882,  1.5696],\n",
      "        [ 0.2997, -0.2982,  1.3365],\n",
      "        [-1.3965, -0.2342,  1.4758],\n",
      "        [-1.8678,  1.0959,  1.2806],\n",
      "        [-2.7709, -1.3266,  1.4713],\n",
      "        [ 0.6900, -0.2798,  1.5157],\n",
      "        [-0.2038, -0.3271,  1.2902],\n",
      "        [ 1.3524, -0.5032,  1.3526],\n",
      "        [ 0.1935, -0.5195,  1.2834],\n",
      "        [ 1.9201,  1.4548,  1.3066],\n",
      "        [ 0.8665,  0.3368,  1.4825],\n",
      "        [-0.9664, -1.4826,  1.3475],\n",
      "        [-1.4789,  2.3025,  1.2910],\n",
      "        [ 1.4259, -0.6423,  1.2764],\n",
      "        [-1.8672,  2.0273,  1.2446],\n",
      "        [ 0.7773, -0.5686,  1.2618],\n",
      "        [-1.9988,  0.1779,  1.5514],\n",
      "        [-2.0404,  0.3482,  1.3141],\n",
      "        [-0.3134, -0.5483,  1.4486],\n",
      "        [-1.4074, -0.1912,  1.5664],\n",
      "        [-1.5583, -0.8021,  1.4820],\n",
      "        [ 0.6483, -0.4273,  1.2799],\n",
      "        [ 1.3558, -0.8595,  1.3408],\n",
      "        [ 0.6495, -0.3895,  1.2604],\n",
      "        [ 0.4833, -0.2556,  1.4654],\n",
      "        [ 1.6115,  1.5441,  1.6023],\n",
      "        [-2.2149,  0.4660,  1.2830],\n",
      "        [ 0.5310, -0.3855,  1.2619],\n",
      "        [-1.7580, -0.2706,  1.3594],\n",
      "        [-1.4649, -0.1830,  1.4573],\n",
      "        [-1.1933, -0.3991,  1.4610],\n",
      "        [ 1.2604, -0.5430,  1.3357],\n",
      "        [ 1.9993,  2.6903,  1.3540]], dtype=torch.float64)\n",
      "ImageMapping(num_groups=64888, num_items=379408, device=cpu)\n"
     ]
    }
   ],
   "source": [
    "# Step 3\n",
    "most_seen_point = dense_idx_list[0].unique(return_counts=True)[1].argmax()\n",
    "\n",
    "mm_data = seen_mm_data#[[0, most_seen_point, 1, 2]]\n",
    "image_data = mm_data.modalities['image']\n",
    "samesetting_data = image_data[0]   # take first in SameSettingImageData since ScanNet only has 1 setting\n",
    "print(samesetting_data)\n",
    "\n",
    "print(samesetting_data.__dict__.keys())\n",
    "\n",
    "# camera positions\n",
    "print(samesetting_data.pos)\n",
    "\n",
    "print(samesetting_data.mappings)"
   ]
  },
  {
   "cell_type": "code",
   "execution_count": 25,
   "metadata": {},
   "outputs": [
    {
     "name": "stdout",
     "output_type": "stream",
     "text": [
      "tensor([     0,      4,      8,  ..., 379406, 379407, 379408])\n",
      "tensor([     0,      4,      8,  ..., 379406, 379407, 379408])\n",
      "tensor([    0,     0,     0,  ..., 64885, 64886, 64887])\n"
     ]
    }
   ],
   "source": [
    "# how to group each point's views?\n",
    "print(image_data.view_cat_csr_indexing)\n",
    "print(samesetting_data.view_csr_indexing)\n",
    "\n",
    "csr_idx = image_data.view_cat_csr_indexing\n",
    "\n",
    "# Compute dense indices from CSR indices\n",
    "n_groups = csr_idx.shape[0] - 1\n",
    "dense_idx = torch.arange(n_groups).to(csr_idx.device).repeat_interleave(\n",
    "    csr_idx[1:] - csr_idx[:-1])\n",
    "# if src.dim() > 1:\n",
    "#     dense_idx = dense_idx.view(-1, 1).repeat(1, src.shape[1])\n",
    "    \n",
    "print(dense_idx)"
   ]
  },
  {
   "cell_type": "code",
   "execution_count": 35,
   "metadata": {},
   "outputs": [
    {
     "data": {
      "text/plain": [
       "64888"
      ]
     },
     "execution_count": 35,
     "metadata": {},
     "output_type": "execute_result"
    }
   ],
   "source": [
    "mm_data.num_points"
   ]
  },
  {
   "cell_type": "code",
   "execution_count": 39,
   "metadata": {
    "scrolled": true
   },
   "outputs": [
    {
     "data": {
      "text/plain": [
       "tensor([[[1.0000, 0.6665, 0.1154,  ..., 0.4548, 0.1306, 0.0784],\n",
       "         [1.0000, 0.4791, 0.1154,  ..., 0.4731, 0.1306, 0.3529],\n",
       "         [1.0000, 0.3359, 0.1154,  ..., 0.7392, 0.1306, 0.2941],\n",
       "         ...,\n",
       "         [0.0000, 0.3266, 0.0614,  ..., 0.7972, 0.0277, 0.8235],\n",
       "         [0.0000, 0.3633, 0.0870,  ..., 0.2801, 0.0584, 0.9216],\n",
       "         [0.0000, 0.2830, 0.2495,  ..., 0.3253, 0.0429, 0.9412]],\n",
       "\n",
       "        [[1.0000, 0.3535, 0.3130,  ..., 0.9383, 0.0848, 0.4902],\n",
       "         [1.0000, 0.3318, 0.3130,  ..., 0.7669, 0.0848, 0.3725],\n",
       "         [1.0000, 0.4663, 0.3130,  ..., 0.4011, 0.0848, 0.5098],\n",
       "         ...,\n",
       "         [0.0000, 0.5995, 0.3395,  ..., 0.0942, 0.1187, 0.3333],\n",
       "         [0.0000, 0.5148, 0.1281,  ..., 0.4793, 0.0541, 0.4902],\n",
       "         [0.0000, 0.3071, 0.1375,  ..., 0.1411, 0.0577, 1.0000]],\n",
       "\n",
       "        [[1.0000, 0.4762, 0.2326,  ..., 0.4781, 0.0989, 0.5686],\n",
       "         [1.0000, 0.3325, 0.2326,  ..., 0.7586, 0.0989, 0.3529],\n",
       "         [1.0000, 0.5181, 0.2326,  ..., 0.3389, 0.0989, 0.3725],\n",
       "         ...,\n",
       "         [0.0000, 0.2716, 0.0812,  ..., 0.7484, 0.1240, 0.5098],\n",
       "         [0.0000, 0.4621, 0.0866,  ..., 0.1830, 0.0431, 0.9804],\n",
       "         [0.0000, 0.3087, 0.0730,  ..., 0.4491, 0.0370, 1.0000]],\n",
       "\n",
       "        ...,\n",
       "\n",
       "        [[1.0000, 0.3561, 0.0868,  ..., 0.0052, 0.0573, 0.4314],\n",
       "         [0.0000, 0.3402, 0.0532,  ..., 0.0741, 0.0461, 0.9216],\n",
       "         [0.0000, 0.2184, 0.0903,  ..., 0.5128, 0.0719, 0.8824],\n",
       "         ...,\n",
       "         [0.0000, 0.3919, 0.1285,  ..., 0.5334, 0.0901, 0.6078],\n",
       "         [0.0000, 0.3838, 0.2407,  ..., 0.3656, 0.0560, 0.5098],\n",
       "         [0.0000, 0.2709, 0.1592,  ..., 0.0176, 0.0687, 0.1961]],\n",
       "\n",
       "        [[1.0000, 0.3622, 0.1741,  ..., 0.0086, 0.0528, 0.4706],\n",
       "         [0.0000, 0.2715, 0.0448,  ..., 0.3044, 0.0665, 0.9804],\n",
       "         [0.0000, 0.1967, 0.3243,  ..., 0.6017, 0.0701, 0.8627],\n",
       "         ...,\n",
       "         [0.0000, 0.1912, 0.1427,  ..., 0.7950, 0.0604, 0.9216],\n",
       "         [0.0000, 0.3702, 0.2941,  ..., 0.3969, 0.1232, 0.5294],\n",
       "         [0.0000, 0.3381, 0.1307,  ..., 0.4690, 0.0335, 0.9608]],\n",
       "\n",
       "        [[1.0000, 0.3502, 0.1736,  ..., 0.0137, 0.0501, 0.3725],\n",
       "         [0.0000, 0.2512, 0.1508,  ..., 0.9420, 0.0608, 0.9216],\n",
       "         [0.0000, 0.2949, 0.3537,  ..., 0.2462, 0.0714, 0.6275],\n",
       "         ...,\n",
       "         [0.0000, 0.1991, 0.2076,  ..., 0.0960, 0.0724, 0.5294],\n",
       "         [0.0000, 0.3852, 0.1155,  ..., 0.1291, 0.0360, 0.9216],\n",
       "         [0.0000, 0.4917, 0.1337,  ..., 0.1863, 0.0869, 0.6863]]])"
      ]
     },
     "execution_count": 39,
     "metadata": {},
     "output_type": "execute_result"
    }
   ],
   "source": [
    "import time\n",
    "s = time.time()\n",
    "\n",
    "def extract_viewing_data_per_point(mm_data):\n",
    "    n_views = 9\n",
    "    \n",
    "    \n",
    "    image_data = mm_data.modalities['image']\n",
    "    csr_idx = image_data.view_cat_csr_indexing\n",
    "\n",
    "    \n",
    "#     # Compute dense indices from CSR indices\n",
    "#     n_groups = csr_idx.shape[0] - 1\n",
    "#     dense_idx = torch.arange(n_groups).to(csr_idx.device).repeat_interleave(\n",
    "#         csr_idx[1:] - csr_idx[:-1])\n",
    "    \n",
    "#     print(dense_idx)\n",
    "    \n",
    "#     # batch_idx: to which image a view-condition feature belongs\n",
    "#     # CSRData: n/a\n",
    "#     # viewing_conditions: feature vector of an image-pixel match\n",
    "#     for x in image_data[0].mappings.values:\n",
    "#         print(x)\n",
    "        \n",
    "    viewing_conditions = image_data[0].mappings.values[2]\n",
    "    \n",
    "    # Add pixel validity as first feature!\n",
    "    viewing_conditions = torch.cat((torch.ones(viewing_conditions.shape[0], 1).to(viewing_conditions.device),\n",
    "                                    viewing_conditions), dim=1)\n",
    "    \n",
    "    \n",
    "    # Calculate amount of empty views. There should be n_points * n_views filled view conditions in total.\n",
    "    n_seen = csr_idx[1:] - csr_idx[:-1]\n",
    "    \n",
    "    unfilled_points = n_seen[n_seen < n_views]\n",
    "    n_views_to_fill = int(len(unfilled_points) * n_views - sum(unfilled_points))\n",
    "    \n",
    "    random_invalid_views = viewing_conditions[np.random.choice(range(len(viewing_conditions)), size=n_views_to_fill, replace=True)]\n",
    "    # set pixel validity to invalid\n",
    "    random_invalid_views[:, 0] = 0\n",
    "    \n",
    "    \n",
    "    # faster method: conccaat viewing conditions and random invalid views, then index the tensor such that each point\n",
    "    # either has 9 valid subsampled views, or is filled to 9 views with random views\n",
    "    combined_tensor = torch.cat((viewing_conditions, random_invalid_views), dim=0)\n",
    "    \n",
    "    unused_invalid_view_idx = len(viewing_conditions)\n",
    "    combined_idx = []\n",
    "    for i, n in enumerate(n_seen):\n",
    "        if n < n_views:\n",
    "            n_empty_views = n_views -  n\n",
    "            combined_idx += list(range(csr_idx[i], csr_idx[i+1])) + \\\n",
    "                            list(range(unused_invalid_view_idx, unused_invalid_view_idx + n_empty_views))\n",
    "            unused_invalid_view_idx += n_empty_views\n",
    "        elif n > n_views:\n",
    "            sampled_idx = sorted(np.random.choice(range(csr_idx[i], csr_idx[i+1]), size=n_views, replace=False))\n",
    "            combined_idx += sampled_idx\n",
    "            \n",
    "        else:\n",
    "            combined_idx += list(range(csr_idx[i], csr_idx[i+1]))\n",
    "    \n",
    "    combined_tensor = combined_tensor[combined_idx]    \n",
    "    return combined_tensor.reshape(mm_data.num_points, n_views, -1)\n",
    "        \n",
    "extract_viewing_data_per_point(mm_data)\n"
   ]
  },
  {
   "cell_type": "code",
   "execution_count": 23,
   "metadata": {},
   "outputs": [
    {
     "name": "stdout",
     "output_type": "stream",
     "text": [
      "1.5583267211914062\n"
     ]
    }
   ],
   "source": [
    "### Redundant code\n",
    "\n",
    "# s = time.time()\n",
    "# ### view sampling per point\n",
    "# view_data_per_point, random_invalid_views = extract_viewing_data_per_point(mm_data)\n",
    "\n",
    "# cum_sampled_views = 0\n",
    "# for i in range(len(view_data_per_point)):\n",
    "#     if len(view_data_per_point[i]) > 9:\n",
    "#         sampled_idx = sorted(np.random.choice(range(len(view_data_per_point[i])), size=9, replace=False))\n",
    "#         view_data_per_point[i] = view_data_per_point[i][sampled_idx]\n",
    "#     else:\n",
    "#         # Each point should have 9 views, so fill points with random invalid view conditions till it contains 9 views\n",
    "#         n_views = len(view_data_per_point[i])\n",
    "#         n_empty = 9 - n_views\n",
    "#         view_data_per_point[i] = torch.cat((view_data_per_point[i], \n",
    "#                                             random_invalid_views[cum_sampled_views:cum_sampled_views+n_empty]), dim=0)\n",
    "#         cum_sampled_views += n_empty\n",
    "                \n",
    "# print(time.time() - s)\n",
    "\n",
    "# # view_data_per_point\n"
   ]
  },
  {
   "cell_type": "code",
   "execution_count": 12,
   "metadata": {},
   "outputs": [
    {
     "data": {
      "text/plain": [
       "tensor([0, 0, 1, 1])"
      ]
     },
     "execution_count": 12,
     "metadata": {},
     "output_type": "execute_result"
    }
   ],
   "source": [
    "\n",
    "# idx mapping from each pixel to point\n",
    "im_data = test_data.modalities['image']    # need SameSettingImageData object so no [0] slicing\n",
    "\n",
    "dense_idx_list = [\n",
    "            torch.arange(im.num_points, device=im_data.device).repeat_interleave(\n",
    "                im.view_csr_indexing[1:] - im.view_csr_indexing[:-1])\n",
    "            for im in im_data]\n",
    "dense_idx_list[0]"
   ]
  },
  {
   "cell_type": "code",
   "execution_count": null,
   "metadata": {},
   "outputs": [],
   "source": []
  },
  {
   "cell_type": "code",
   "execution_count": null,
   "metadata": {},
   "outputs": [],
   "source": []
  },
  {
   "cell_type": "markdown",
   "metadata": {},
   "source": [
    "### Trying to point-image & point-pixel mappings"
   ]
  },
  {
   "cell_type": "code",
   "execution_count": 120,
   "metadata": {},
   "outputs": [
    {
     "data": {
      "text/plain": [
       "ImageMapping(num_groups=81369, num_items=81821, device=cpu)"
      ]
     },
     "execution_count": 120,
     "metadata": {},
     "output_type": "execute_result"
    }
   ],
   "source": [
    "mapping = mm_data.modalities['image'][0].mappings\n",
    "mapping"
   ]
  },
  {
   "cell_type": "code",
   "execution_count": 122,
   "metadata": {},
   "outputs": [
    {
     "data": {
      "text/plain": [
       "{'pointers': tensor([    0,     0,     0,  ..., 81821, 81821, 81821]),\n",
       " 'values': [tensor([ 9,  9,  9,  ..., 13,  4, 18]),\n",
       "  CSRData(num_groups=81821, num_items=81821, device=cpu),\n",
       "  tensor([[0.3528, 0.2270, 0.6533,  ..., 0.4220, 0.0727, 0.8235],\n",
       "          [0.3552, 0.1550, 0.5808,  ..., 0.3821, 0.0875, 0.4314],\n",
       "          [0.3505, 0.0111, 0.6325,  ..., 0.3873, 0.0810, 0.3922],\n",
       "          ...,\n",
       "          [0.4889, 0.2754, 0.6022,  ..., 0.1002, 0.0594, 0.4314],\n",
       "          [0.3923, 0.0640, 0.7785,  ..., 0.0044, 0.0873, 0.0980],\n",
       "          [0.4105, 0.4782, 0.3603,  ..., 0.0367, 0.0568, 0.2157]])],\n",
       " 'is_index_value': tensor([ True, False, False])}"
      ]
     },
     "execution_count": 122,
     "metadata": {},
     "output_type": "execute_result"
    }
   ],
   "source": [
    "mapping.__dict__\n",
    "# pointers: csr_idx, aka which tensors belong to the same view\n",
    "# values[0]: indicates the image idx\n",
    "# values[1]: CSRData holding pixel indices, called with values[1].values[0]"
   ]
  },
  {
   "cell_type": "code",
   "execution_count": 126,
   "metadata": {},
   "outputs": [
    {
     "data": {
      "text/plain": [
       "tensor([ 9,  9,  9,  ..., 13,  4, 18])"
      ]
     },
     "execution_count": 126,
     "metadata": {},
     "output_type": "execute_result"
    }
   ],
   "source": [
    "# Image idx of each point-pixel match\n",
    "idx_batch = mapping.values[0].repeat_interleave(\n",
    "    mapping.values[1].pointers[1:] - mapping.values[1].pointers[:-1])\n",
    "idx_batch"
   ]
  },
  {
   "cell_type": "code",
   "execution_count": 72,
   "metadata": {},
   "outputs": [
    {
     "ename": "NameError",
     "evalue": "name 'mm_data' is not defined",
     "output_type": "error",
     "traceback": [
      "\u001b[0;31m---------------------------------------------------------------------------\u001b[0m",
      "\u001b[0;31mNameError\u001b[0m                                 Traceback (most recent call last)",
      "\u001b[0;32m/tmp/ipykernel_11307/848875892.py\u001b[0m in \u001b[0;36m<module>\u001b[0;34m\u001b[0m\n\u001b[1;32m      1\u001b[0m \u001b[0;31m# idx mapping from each pixel to point\u001b[0m\u001b[0;34m\u001b[0m\u001b[0;34m\u001b[0m\u001b[0;34m\u001b[0m\u001b[0m\n\u001b[0;32m----> 2\u001b[0;31m \u001b[0mim_data\u001b[0m \u001b[0;34m=\u001b[0m \u001b[0mmm_data\u001b[0m\u001b[0;34m.\u001b[0m\u001b[0mmodalities\u001b[0m\u001b[0;34m[\u001b[0m\u001b[0;34m'image'\u001b[0m\u001b[0;34m]\u001b[0m\u001b[0;34m\u001b[0m\u001b[0;34m\u001b[0m\u001b[0m\n\u001b[0m\u001b[1;32m      3\u001b[0m \u001b[0;34m\u001b[0m\u001b[0m\n\u001b[1;32m      4\u001b[0m dense_idx_list = [\n\u001b[1;32m      5\u001b[0m             torch.arange(im.num_points, device=im_data.device).repeat_interleave(\n",
      "\u001b[0;31mNameError\u001b[0m: name 'mm_data' is not defined"
     ]
    }
   ],
   "source": [
    "# idx mapping from each pixel to point\n",
    "im_data = mm_data.modalities['image']\n",
    "\n",
    "dense_idx_list = [\n",
    "            torch.arange(im.num_points, device=im_data.device).repeat_interleave(\n",
    "                im.view_csr_indexing[1:] - im.view_csr_indexing[:-1])\n",
    "            for im in im_data]\n",
    "dense_idx_list[0]"
   ]
  },
  {
   "cell_type": "code",
   "execution_count": 135,
   "metadata": {},
   "outputs": [
    {
     "data": {
      "text/plain": [
       "tensor(1)"
      ]
     },
     "execution_count": 135,
     "metadata": {},
     "output_type": "execute_result"
    }
   ],
   "source": [
    "dense_idx_list[0].unique(return_counts=True)[1].min()"
   ]
  },
  {
   "cell_type": "code",
   "execution_count": 125,
   "metadata": {},
   "outputs": [],
   "source": [
    "mm_data.modalities['image'].get_mapped_features(interpolate=False)\n",
    "\n",
    "def get_mapped_features(mod_data, interpolate=False):\n",
    "    \"\"\"Return the mapped features, with optional interpolation. If\n",
    "    `interpolate=False`, the mappings will be adjusted to\n",
    "    `self.img_size`: the current size of the feature map `self.x`.\n",
    "    \"\"\"\n",
    "    # Compute the feature map's sampling ratio between the input\n",
    "    # `mapping_size` and the current `img_size`\n",
    "    # TODO: treat scales independently. Careful with min or max\n",
    "    #  depending on upscale and downscale\n",
    "    scale = 1 / mod_data.downscale\n",
    "\n",
    "    # If not interpolating, set the mapping to the proper scale\n",
    "    mappings = mod_data.mappings if interpolate \\\n",
    "        else mod_data.mappings.rescale_images(scale)\n",
    "\n",
    "    # Index the features with/without interpolation\n",
    "    if interpolate and scale != 1:\n",
    "        print(\"BAAAKA\")\n",
    "        resolution = torch.Tensor([mod_data.mapping_size]).to(mod_data.device)\n",
    "        coords = mappings.pixels / (resolution - 1)\n",
    "        coords = coords[:, [1, 0]]  # pixel mappings are in (W, H) format\n",
    "        batch = mappings.feature_map_indexing[0]\n",
    "        x = sparse_interpolation(mod_data.x, coords, batch)\n",
    "    else:\n",
    "        x = mod_data.x[mappings.feature_map_indexing]\n",
    "\n",
    "    return x\n",
    "    \n",
    "get_mapped_features(mm_data.modalities['image'][0], interpolate=True)"
   ]
  },
  {
   "cell_type": "markdown",
   "metadata": {},
   "source": [
    "#### Returns indices for extracting mapped data from a batch of image feature maps"
   ]
  },
  {
   "cell_type": "code",
   "execution_count": 11,
   "metadata": {},
   "outputs": [
    {
     "name": "stdout",
     "output_type": "stream",
     "text": [
      "(tensor([22, 22, 22,  ...,  2,  2, 10]), Ellipsis, tensor([72, 75, 74,  ...,  3,  2,  8]), tensor([216, 215, 212,  ...,  12,   9, 300]))\n",
      "[(tensor([22, 22, 22,  ...,  2,  2, 10]), Ellipsis, tensor([72, 75, 74,  ...,  3,  2,  8]), tensor([216, 215, 212,  ...,  12,   9, 300]))]\n"
     ]
    }
   ],
   "source": [
    "im = mm_data.modalities['image'][0]\n",
    "print(im.feature_map_indexing)\n",
    "\n",
    "im = mm_data.modalities['image']\n",
    "print(im.feature_map_indexing)\n"
   ]
  },
  {
   "cell_type": "code",
   "execution_count": null,
   "metadata": {},
   "outputs": [],
   "source": [
    "#################### I found out how indices are stored. \n",
    "#################### Now, check out how the ImageMapping is calculated! in MapImages transform\n",
    "\n",
    "\n",
    "def feature_map_indexing(SameSettingImageData):  # function within ImageMapping object\n",
    "    \"\"\"Return the indices for extracting mapped data from the\n",
    "    corresponding batch of image feature maps.\n",
    "\n",
    "    The batch of image feature maps X is expected to have the shape\n",
    "    `[B, C, H, W]`. The returned indexing object idx is intended to\n",
    "    be used for recovering the mapped features as: `X[idx]`.\n",
    "    \"\"\"\n",
    "    mappings = SameSettingImageData.mappings\n",
    "    \n",
    "    print(mappings.features[:10])\n",
    "    \n",
    "    idx_batch = mappings.images.repeat_interleave(\n",
    "        mappings.values[1].pointers[1:] - mappings.values[1].pointers[:-1])\n",
    "    idx_height = mappings.pixels[:, 1]\n",
    "    idx_width = mappings.pixels[:, 0]\n",
    "    idx = (idx_batch.long(), ..., idx_height.long(), idx_width.long())\n",
    "    return idx\n",
    "\n",
    "im = mm_data.modalities['image'][0]   # SameSettingImageData\n",
    "feature_map_indexing(im)\n",
    "\n",
    "mm_data.data.__dict__"
   ]
  },
  {
   "cell_type": "code",
   "execution_count": null,
   "metadata": {},
   "outputs": [],
   "source": []
  },
  {
   "cell_type": "code",
   "execution_count": null,
   "metadata": {},
   "outputs": [],
   "source": []
  },
  {
   "cell_type": "code",
   "execution_count": null,
   "metadata": {},
   "outputs": [],
   "source": []
  },
  {
   "cell_type": "code",
   "execution_count": 27,
   "metadata": {},
   "outputs": [
    {
     "data": {
      "text/plain": [
       "tensor(26556)"
      ]
     },
     "execution_count": 27,
     "metadata": {},
     "output_type": "execute_result"
    }
   ],
   "source": [
    "images = seen_mm_data.modalities['image']\n",
    "n_seen = sum([\n",
    "            im.mappings.pointers[1:] - im.mappings.pointers[:-1]\n",
    "            for im in images])\n",
    "n_seen.argmax()   # by how many views a 3d point is seen"
   ]
  },
  {
   "cell_type": "code",
   "execution_count": 21,
   "metadata": {},
   "outputs": [
    {
     "name": "stdout",
     "output_type": "stream",
     "text": [
      "[3803, 4053, 4472, 3447, 4429, 3796, 3490, 3764, 4196, 3650, 3520, 2221, 3775, 3414, 3240, 3109, 3219, 3967, 3825, 3156, 5118, 2617, 3521, 4046, 2274]\n"
     ]
    }
   ],
   "source": [
    "# Compute the unseen points boolean masks and split them in a\n",
    "# list of masks for easier popping\n",
    "\n",
    "# if self.use_coverage:\n",
    "def PickImages(data, images):\n",
    "    \"\"\"\n",
    "    Returns how many points each view sees\n",
    "    \"\"\"\n",
    "    img_unseen_points = torch.zeros(\n",
    "        images.num_views, data.num_nodes, dtype=torch.bool)\n",
    "    i_offset = 0\n",
    "    for im in images:\n",
    "        mappings = im.mappings\n",
    "        i_idx = mappings.images + i_offset\n",
    "        j_idx = mappings.points.repeat_interleave(\n",
    "            mappings.pointers[1:] - mappings.pointers[:-1])\n",
    "        img_unseen_points[i_idx, j_idx] = True\n",
    "        i_offset += im.num_views\n",
    "    img_unseen_points = [x.numpy() for x in img_unseen_points]\n",
    "    \n",
    "    print([img_unseen_points[x].sum() for x in range(len(img_unseen_points))])\n",
    "    \n",
    "PickImages(seen_mm_data.data, seen_mm_data.modalities['image'])"
   ]
  },
  {
   "cell_type": "markdown",
   "metadata": {},
   "source": [
    "## Run inference from pretrained weights and visualize predictions\n",
    "It is possible to visualize the pointwise predictions and errors from a model. \n",
    "\n",
    "To do so, we will use the pretrained weights made available with this project. See `README.md` to get the download links and manually place the `.pt` files locally. You will need to provide `checkpoint_dir` where you saved those files in the next cell."
   ]
  },
  {
   "cell_type": "code",
   "execution_count": null,
   "metadata": {},
   "outputs": [],
   "source": [
    "from torch_points3d.models.model_factory import instantiate_model\n",
    "\n",
    "# Set your parameters\n",
    "checkpoint_dir = '/home/fsun/DeepViewAgg/model_checkpoints'\n",
    "\n",
    "# Create the model\n",
    "print(f\"Creating model: {cfg.model_name}\")\n",
    "model = instantiate_model(cfg, dataset)\n",
    "# print(model)\n",
    "\n",
    "# Load the checkpoint and recover the 'latest' model weights\n",
    "checkpoint = torch.load(f'{checkpoint_dir}/{model_name}.pt', map_location='cpu')\n",
    "model.load_state_dict_with_same_shape(checkpoint['models']['latest'], strict=False)\n",
    "\n",
    "# Prepare the model for inference\n",
    "model = model.eval().cuda()\n",
    "print('Model loaded')"
   ]
  },
  {
   "cell_type": "markdown",
   "metadata": {},
   "source": [
    "Now we have loaded the model, we need to run a forward pass on a sample. Howver, if we want to be able to visualize the predictions, we need to pay special attention to which type of 3D and 2D transforms we apply on the data if we do not want to break the mappings. To do so, we will manually apply some sensitive transforms to be able to both infer on the data and visualize it."
   ]
  },
  {
   "cell_type": "code",
   "execution_count": null,
   "metadata": {},
   "outputs": [],
   "source": [
    "i_room = 3\n",
    "\n",
    "# Pick a room in the Train set\n",
    "mm_data = sample_real_data(dataset.train_dataset, idx=i_room, exclude_3d=exclude_3d_viz, exclude_2d=exclude_2d_viz)\n",
    "\n",
    "# Pick a room in the Val set\n",
    "# mm_data = sample_real_data(dataset.val_dataset, idx=i_room, exclude_3d=exclude_3d_viz, exclude_2d=exclude_2d_viz)\n",
    "\n",
    "# Pick a room in the Test set\n",
    "# mm_data = sample_real_data(dataset.test_dataset[0], idx=i_room, exclude_3d=exclude_3d_viz, exclude_2d=exclude_2d_viz)\n",
    "\n",
    "# Extract point cloud and images from MMData object\n",
    "data = mm_data.data.clone()\n",
    "images = mm_data.modalities['image'].clone()\n",
    "\n",
    "# For voxel-based 3D backbones such as SparseConv3d and MinkowskiNet, points need to be \n",
    "# preprocessed with Center and GridSampling3D. Unfortunately, Center breaks relative \n",
    "# positions between points and images. Besides, the combination of Center and GridSampling3D\n",
    "# may lead to some points being merged into the same voxels, so we must apply it to both the\n",
    "# inference and visualization data to make sure we have the same voxels. The workaround here \n",
    "# is to manually run these while keeping track of the centering offset\n",
    "center = data.pos.mean(dim=-2, keepdim=True)\n",
    "data = AddFeatsByKeys(list_add_to_x=[True], feat_names=['pos_z'], delete_feats=[True])(data)          # add z-height to the features\n",
    "data = Center()(data)                                                                                 # mean-center the data\n",
    "data = GridSampling3D(cfg.data.resolution_3d, quantize_coords=True, mode='last')(data)                # quantization for volumetric models\n",
    "\n",
    "# This last voxelization step with GridSampling3D might have removed some points, so we need\n",
    "# to update the mappings usign SelectMappingFromPointId. To control the size of the batch, we\n",
    "# use PickImagesFromMemoryCredit. Besides, 2D models expect normalized float images, which is\n",
    "# why we call ToFloatImage and Normalize\n",
    "data, images = SelectMappingFromPointId()(data, images)                                               # update mappings after GridSampling3D\n",
    "data, images = PickImagesFromMemoryCredit(\n",
    "    img_size=cfg.data.resolution_2d, \n",
    "    k_coverage=cfg.data.multimodal.settings.k_coverage, \n",
    "    n_img=cfg.data.multimodal.settings.test_pixel_credit)(data, images)                                      # select images to respect memory constraints\n",
    "data, images_infer = ToFloatImage()(data, images.clone())                                             # convert uint8 images to float\n",
    "data, images_infer = Normalize()(data, images_infer)                                                  # RGB normalization\n",
    "\n",
    "# Create a MMData for inference\n",
    "mm_data_infer = MMData(data, image=images_infer)\n",
    "\n",
    "# Create a MMBatch and run inference\n",
    "batch = MMBatch.from_mm_data_list([mm_data_infer])\n",
    "model.set_input(batch, model.device)\n",
    "model(batch)\n",
    "\n",
    "# Create a MMData for visualization\n",
    "data.pos += center\n",
    "mm_data = MMData(data, image=images)\n",
    "\n",
    "# Recover the predicted labels for visualization\n",
    "mm_data.data.pred = model.output.detach().cpu().argmax(1)"
   ]
  },
  {
   "cell_type": "code",
   "execution_count": null,
   "metadata": {},
   "outputs": [],
   "source": [
    "visualize_mm_data(mm_data, figsize=1000, pointsize=3, voxel=0.05, show_2d=True, front='y', class_names=CLASS_NAMES, class_colors=CLASS_COLORS, alpha=0.3)"
   ]
  },
  {
   "cell_type": "code",
   "execution_count": null,
   "metadata": {},
   "outputs": [],
   "source": []
  }
 ],
 "metadata": {
  "kernelspec": {
   "display_name": "pytorch3d",
   "language": "python",
   "name": "pytorch3d"
  },
  "language_info": {
   "codemirror_mode": {
    "name": "ipython",
    "version": 3
   },
   "file_extension": ".py",
   "mimetype": "text/x-python",
   "name": "python",
   "nbconvert_exporter": "python",
   "pygments_lexer": "ipython3",
   "version": "3.7.13"
  }
 },
 "nbformat": 4,
 "nbformat_minor": 4
}
