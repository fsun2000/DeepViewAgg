{
 "cells": [
  {
   "cell_type": "code",
   "execution_count": 2,
   "id": "4056bf1e",
   "metadata": {},
   "outputs": [],
   "source": [
    "import numpy as np\n",
    "from PIL import Image\n",
    "import os"
   ]
  },
  {
   "cell_type": "markdown",
   "id": "228de639",
   "metadata": {},
   "source": [
    "# Remap ScanNet20 ids to nyu40ids"
   ]
  },
  {
   "cell_type": "code",
   "execution_count": 3,
   "id": "934878e3",
   "metadata": {},
   "outputs": [],
   "source": [
    "def scannet_color_palette():\n",
    "\treturn [\n",
    "\t\t(0, 0, 0),           # undefined\n",
    "\t\t(174, 199, 232),     # wall\n",
    "\t\t(152, 223, 138),     # floor\n",
    "\t\t(31, 119, 180),      # cabinet\n",
    "\t\t(255, 187, 120),     # bed\n",
    "\t\t(188, 189, 34),      # chair\n",
    "\t\t(140, 86, 75),       # sofa\n",
    "\t\t(255, 152, 150),     # table\n",
    "\t\t(214, 39, 40),       # door\n",
    "\t\t(197, 176, 213),     # window\n",
    "\t\t(148, 103, 189),     # bookshelf\n",
    "\t\t(196, 156, 148),     # picture\n",
    "\t\t(23, 190, 207),      # counter\n",
    "\t\t(178, 76, 76),  \n",
    "\t\t(247, 182, 210),     # desk\n",
    "\t\t(66, 188, 102), \n",
    "\t\t(219, 219, 141),     # curtain\n",
    "\t\t(140, 57, 197), \n",
    "\t\t(202, 185, 52), \n",
    "\t\t(51, 176, 203), \n",
    "\t\t(200, 54, 131), \n",
    "\t\t(92, 193, 61),  \n",
    "\t\t(78, 71, 183),  \n",
    "\t\t(172, 114, 82), \n",
    "\t\t(255, 127, 14),      # refrigerator\n",
    "\t\t(91, 163, 138), \n",
    "\t\t(153, 98, 156), \n",
    "\t\t(140, 153, 101),\n",
    "\t\t(158, 218, 229),     # shower curtain\n",
    "\t\t(100, 125, 154),\n",
    "\t\t(178, 127, 135),\n",
    "\t\t(120, 185, 128),\n",
    "\t\t(146, 111, 194),\n",
    "\t\t(44, 160, 44),       # toilet\n",
    "\t\t(112, 128, 144),     # sink\n",
    "\t\t(96, 207, 209), \n",
    "\t\t(227, 119, 194),     # bathtub\n",
    "\t\t(213, 92, 176), \n",
    "\t\t(94, 106, 211), \n",
    "\t\t(82, 84, 163),       # otherfurn\n",
    "\t\t(100, 85, 144)\n",
    "\t]\n",
    "\n",
    "def scannet_main_ids():\n",
    "\treturn [\n",
    "\t\t0,\n",
    "\t\t1,   \n",
    "\t\t2,   \n",
    "\t\t3,   \n",
    "\t\t4,   \n",
    "\t\t5,   \n",
    "\t\t6,   \n",
    "\t\t7,   \n",
    "\t\t8,   \n",
    "\t\t9,   \n",
    "\t\t10,  \n",
    "\t\t11,  \n",
    "\t\t12,  \n",
    "\t\t14,  \n",
    "\t\t16,  \n",
    "\t\t24,  \n",
    "\t\t28,  \n",
    "\t\t33,  \n",
    "\t\t34,  \n",
    "\t\t36,  \n",
    "\t\t39  \n",
    "\t]\n",
    "\n",
    "VALID_CLASS_IDS = [1, 2, 3, 4, 5, 6, 7, 8, 9, 10, 11, 12, 14, 16, 24, 28, 33, 34, 36, 39]\n"
   ]
  },
  {
   "cell_type": "code",
   "execution_count": 4,
   "id": "e72f26ae",
   "metadata": {},
   "outputs": [],
   "source": [
    "# scene_dir = '/project/fsun/data/scannet/test_frames_2d'\n",
    "# scene_id = 'submission_preds'\n",
    "\n",
    "# # pred_dir = 'color_resized'\n",
    "# img_path = os.path.join(scene_dir, scene_id, 'scene0712_00_000000.png')\n",
    "# color = Image.open(img_path)\n",
    "# color"
   ]
  },
  {
   "cell_type": "code",
   "execution_count": null,
   "id": "5509a79f",
   "metadata": {},
   "outputs": [],
   "source": []
  },
  {
   "cell_type": "code",
   "execution_count": 10,
   "id": "6f090ace",
   "metadata": {},
   "outputs": [],
   "source": [
    "orginal_class_ids = np.asarray(VALID_CLASS_IDS)\n",
    "\n",
    "scene_dir = '/project/fsun/data/scannet/test_frames_2d/scannet_frames_test'\n",
    "pred_dir = '2d_benchmark_preds'\n",
    "\n",
    "for scene_id in os.listdir(scene_dir):\n",
    "    \n",
    "    for img_name in os.listdir(os.path.join(scene_dir, scene_id, pred_dir)):\n",
    "    \n",
    "        img_path = os.path.join(scene_dir, scene_id, pred_dir, img_name)\n",
    "\n",
    "        semantic = Image.open(img_path)\n",
    "\n",
    "        semantic = np.array(semantic)\n",
    "        print(np.unique(semantic))\n",
    "        remapped_pred = np.array([orginal_class_ids[int(s)] for s in semantic.flatten().squeeze()-1])\n",
    "        remapped_pred = remapped_pred.reshape(480, 640).astype(np.uint8)\n",
    "        print(np.unique(remapped_pred))\n",
    "\n",
    "        remapped_pred = Image.fromarray(remapped_pred)\n",
    "        remapped_pred = remapped_pred.resize(size=(1296, 968), resample=0)\n",
    "\n",
    "        remapped_pred.save(os.path.join('/project/fsun/data/scannet/test_frames_2d/submission_preds', f'{scene_id}_{img_name}'))\n"
   ]
  },
  {
   "cell_type": "code",
   "execution_count": 45,
   "id": "564ed0cf",
   "metadata": {
    "scrolled": true
   },
   "outputs": [],
   "source": [
    "\n",
    "\n",
    "# rgb_map = [scannet_color_palette()[i] for i in scannet_main_ids()] \n",
    "\n",
    "# semantic_rgb = np.array([rgb_map[int(s)] for s in np.array(semantic).flatten().squeeze()])\n",
    "# semantic_rgb = semantic_rgb.reshape(480, 640, 3)\n",
    "# semantic_rgb = semantic_rgb.astype(np.uint8)\n",
    "\n",
    "# Image.fromarray(semantic_rgb)"
   ]
  },
  {
   "cell_type": "code",
   "execution_count": 36,
   "id": "3bee8014",
   "metadata": {},
   "outputs": [
    {
     "name": "stdout",
     "output_type": "stream",
     "text": [
      "[ 1  2  5  7  8 11 13 20]\n",
      "[ 1  2  5  7  8 11 14 39]\n"
     ]
    }
   ],
   "source": [
    "semantic = np.array(semantic)\n",
    "print(np.unique(semantic))\n",
    "orginal_class_ids = np.asarray(VALID_CLASS_IDS)\n",
    "remapped_pred = np.array([orginal_class_ids[int(s)] for s in semantic.flatten().squeeze()-1])\n",
    "remapped_pred = remapped_pred.reshape(480, 640).astype(np.uint8)\n",
    "print(np.unique(remapped_pred))\n",
    "\n"
   ]
  },
  {
   "cell_type": "code",
   "execution_count": 41,
   "id": "a15427bf",
   "metadata": {},
   "outputs": [
    {
     "data": {
      "image/png": "[encoded data removed]",
      "text/plain": [
       "<PIL.Image.Image image mode=L size=1296x968 at 0x1523D8F477C0>"
      ]
     },
     "execution_count": 41,
     "metadata": {},
     "output_type": "execute_result"
    }
   ],
   "source": [
    "# load ground truth semantics\n",
    "remapped_pred = Image.fromarray(remapped_pred)\n",
    "remapped_pred = remapped_pred.resize(size=(1296, 968), resample=0)\n",
    "\n",
    "\n",
    "# remapped_pred.save(os.path.join('/project/fsun/data/scannet/test_frames_2d/submission_preds', f'{scene_id}_{img_name}'))\n",
    "\n"
   ]
  },
  {
   "cell_type": "code",
   "execution_count": 42,
   "id": "3779d967",
   "metadata": {},
   "outputs": [],
   "source": [
    "temp = np.array(remapped_pred)"
   ]
  },
  {
   "cell_type": "code",
   "execution_count": 44,
   "id": "a16aea36",
   "metadata": {},
   "outputs": [
    {
     "data": {
      "text/plain": [
       "array([ 1,  2,  5,  7,  8, 11, 14, 39], dtype=uint8)"
      ]
     },
     "execution_count": 44,
     "metadata": {},
     "output_type": "execute_result"
    }
   ],
   "source": [
    "np.unique(temp)"
   ]
  }
 ],
 "metadata": {
  "kernelspec": {
   "display_name": "Python 3 (ipykernel)",
   "language": "python",
   "name": "python3"
  },
  "language_info": {
   "codemirror_mode": {
    "name": "ipython",
    "version": 3
   },
   "file_extension": ".py",
   "mimetype": "text/x-python",
   "name": "python",
   "nbconvert_exporter": "python",
   "pygments_lexer": "ipython3",
   "version": "3.9.5"
  }
 },
 "nbformat": 4,
 "nbformat_minor": 5
}
